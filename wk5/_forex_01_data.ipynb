{
  "cells": [
    {
      "cell_type": "markdown",
      "metadata": {
        "id": "view-in-github",
        "colab_type": "text"
      },
      "source": [
        "<a href=\"https://colab.research.google.com/github/AfroGrit/jenga-stock/blob/wk5/wk5/_forex_01_data.ipynb\" target=\"_parent\"><img src=\"https://colab.research.google.com/assets/colab-badge.svg\" alt=\"Open In Colab\"/></a>"
      ]
    },
    {
      "cell_type": "code",
      "execution_count": null,
      "metadata": {
        "id": "NTKzWiAnjDMn"
      },
      "outputs": [],
      "source": []
    },
    {
      "cell_type": "code",
      "execution_count": 1,
      "metadata": {
        "id": "OvOF5nnkH-bW"
      },
      "outputs": [],
      "source": [
        "# !pip install yfinance\n",
        "# !pip install plotly"
      ]
    },
    {
      "cell_type": "code",
      "execution_count": 2,
      "metadata": {
        "id": "7b2DXbnn5T-A"
      },
      "outputs": [],
      "source": [
        "# !pip install altair_viewer"
      ]
    },
    {
      "cell_type": "code",
      "execution_count": 3,
      "metadata": {
        "colab": {
          "base_uri": "https://localhost:8080/"
        },
        "id": "cM9Q1r_636y0",
        "outputId": "1a8daa24-a6f9-4fa1-b659-f3f111692d90"
      },
      "outputs": [
        {
          "output_type": "stream",
          "name": "stdout",
          "text": [
            "Mon Aug 12 10:05:45 2024       \n",
            "+---------------------------------------------------------------------------------------+\n",
            "| NVIDIA-SMI 535.104.05             Driver Version: 535.104.05   CUDA Version: 12.2     |\n",
            "|-----------------------------------------+----------------------+----------------------+\n",
            "| GPU  Name                 Persistence-M | Bus-Id        Disp.A | Volatile Uncorr. ECC |\n",
            "| Fan  Temp   Perf          Pwr:Usage/Cap |         Memory-Usage | GPU-Util  Compute M. |\n",
            "|                                         |                      |               MIG M. |\n",
            "|=========================================+======================+======================|\n",
            "|   0  Tesla T4                       Off | 00000000:00:04.0 Off |                    0 |\n",
            "| N/A   46C    P8              10W /  70W |      0MiB / 15360MiB |      0%      Default |\n",
            "|                                         |                      |                  N/A |\n",
            "+-----------------------------------------+----------------------+----------------------+\n",
            "                                                                                         \n",
            "+---------------------------------------------------------------------------------------+\n",
            "| Processes:                                                                            |\n",
            "|  GPU   GI   CI        PID   Type   Process name                            GPU Memory |\n",
            "|        ID   ID                                                             Usage      |\n",
            "|=======================================================================================|\n",
            "|  No running processes found                                                           |\n",
            "+---------------------------------------------------------------------------------------+\n"
          ]
        }
      ],
      "source": [
        "!nvidia-smi  # this should display information about available GPUs\n"
      ]
    },
    {
      "cell_type": "code",
      "execution_count": 4,
      "metadata": {
        "id": "oO7iXyHO38vl"
      },
      "outputs": [],
      "source": [
        "import cudf  # this should work without any errors"
      ]
    },
    {
      "cell_type": "code",
      "execution_count": 5,
      "metadata": {
        "id": "y84v8SgnIF30"
      },
      "outputs": [],
      "source": [
        "# Numerical and Data Handling\n",
        "import numpy as np\n",
        "import pandas as pd\n",
        "\n",
        "# Financial Data Sources\n",
        "import yfinance as yf\n",
        "import pandas_datareader as pdr\n",
        "\n",
        "# Data Visualization\n",
        "import plotly.graph_objs as go\n",
        "import plotly.express as px\n",
        "import matplotlib.pyplot as plt\n",
        "import altair as alt\n",
        "# import altair_viewer\n",
        "import seaborn as sns\n",
        "\n",
        "# Utilities\n",
        "import time\n",
        "from datetime import date\n",
        "from tqdm import tqdm\n"
      ]
    },
    {
      "cell_type": "markdown",
      "metadata": {
        "id": "ZQX8ROWqjqhJ"
      },
      "source": [
        "## 0.0 helper functions"
      ]
    },
    {
      "cell_type": "code",
      "execution_count": 5,
      "metadata": {
        "id": "GMqDJwjGXppe"
      },
      "outputs": [],
      "source": []
    },
    {
      "cell_type": "markdown",
      "metadata": {
        "id": "-W6aO-VMKjEk"
      },
      "source": [
        "## 0.0 helper functions"
      ]
    },
    {
      "cell_type": "code",
      "execution_count": 6,
      "metadata": {
        "id": "gsYOcUGHKn5x"
      },
      "outputs": [],
      "source": [
        "def convert_to_utc(df, column_name='Date'):\n",
        "    df[column_name] = pd.to_datetime(df[column_name], utc=True)\n",
        "    return df\n",
        "\n",
        "# Function to compute growth and extract growth columns\n",
        "def get_growth(df: pd.DataFrame, prefix: str) -> pd.DataFrame:\n",
        "    for i in [1, 3, 7, 30, 90, 365]:\n",
        "        df[f'growth_{prefix}_{i}d'] = df['Adj Close'] / df['Adj Close'].shift(i)\n",
        "    growth_keys = [k for k in df.keys() if k.startswith('growth')]\n",
        "    return df[growth_keys].dropna()\n",
        "\n",
        "# Function to download and process data for a list of tickers\n",
        "def download_and_process_data(tickers: list) -> dict:\n",
        "    return {\n",
        "        ticker: get_growth(yf.download(ticker, period=\"max\", interval=\"1d\"), ticker)\n",
        "        for ticker in tickers\n",
        "    }\n",
        "\n",
        "# Function to access and assign the growth data for each ticker to variables\n",
        "def assign_growth_data_to_variables(data_dict: dict) -> dict:\n",
        "    variables = {}\n",
        "    for ticker in data_dict.keys():\n",
        "        var_name = ticker.replace(\"-\", \"\").replace(\"=\", \"\").lower() + \"_growth\"\n",
        "        variables[var_name] = data_dict[ticker]\n",
        "    return variables\n",
        "\n",
        "# Function to download and prepare financial data\n",
        "def get_financials_df(ticker: str) -> pd.DataFrame:\n",
        "    stock = yf.Ticker(ticker)\n",
        "    # Download financial data\n",
        "    financials = stock.financials.T\n",
        "    return financials\n",
        "\n",
        "# Function to generate dataframes for each stock's financial data\n",
        "def generate_financial_dfs(tickers: dict) -> dict:\n",
        "    financial_dfs = {}\n",
        "    for name, ticker in tickers.items():\n",
        "        df_name = f\"{name.replace(' ', '_').lower()}_financials\"\n",
        "        financial_dfs[df_name] = get_financials_df(ticker)\n",
        "    return financial_dfs"
      ]
    },
    {
      "cell_type": "code",
      "execution_count": 7,
      "metadata": {
        "id": "6sFsM6VI0M7T"
      },
      "outputs": [],
      "source": [
        "def ensure_datetime(df, date_column='Date'):\n",
        "    \"\"\"\n",
        "    Ensure the date_column is in datetime format with no timezone.\n",
        "\n",
        "    Parameters:\n",
        "    df (pd.DataFrame): The DataFrame to process.\n",
        "    date_column (str): The name of the date column to process.\n",
        "\n",
        "    Returns:\n",
        "    pd.DataFrame: The processed DataFrame with datetime formatted column.\n",
        "    \"\"\"\n",
        "    if date_column in df.columns:\n",
        "        df[date_column] = pd.to_datetime(df[date_column]).dt.tz_localize(None)\n",
        "    else:\n",
        "        df.index = pd.to_datetime(df.index).tz_localize(None)\n",
        "        df.reset_index(inplace=True)\n",
        "        df.rename(columns={'index': date_column}, inplace=True)\n",
        "    return df\n",
        "\n",
        "\n",
        "\n",
        "def remove_duplicate_columns(df) -> pd.DataFrame:\n",
        "    \"\"\"\n",
        "    Remove duplicate columns in a DataFrame.\n",
        "\n",
        "    Parameters:\n",
        "    df (pd.DataFrame): The DataFrame to process.\n",
        "\n",
        "    Returns:\n",
        "    pd.DataFrame: The processed DataFrame with duplicate columns removed.\n",
        "    \"\"\"\n",
        "    return df.loc[:, ~df.columns.duplicated()]\n",
        "\n",
        "\n",
        "\n",
        "def merge_dataframes(dataframes_dict, on='Date', how='left') -> pd.DataFrame:\n",
        "    \"\"\"\n",
        "    Merge multiple DataFrames on a specified column.\n",
        "\n",
        "    Parameters:\n",
        "    dataframes_dict (dict): Dictionary of DataFrames to merge with keys as identifiers.\n",
        "    on (str): The column name to merge on.\n",
        "    how (str): The type of merge to be performed (default is 'left').\n",
        "\n",
        "    Returns:\n",
        "    pd.DataFrame: The merged DataFrame.\n",
        "    \"\"\"\n",
        "    keys = list(dataframes_dict.keys())\n",
        "    merged_df = ensure_datetime(dataframes_dict[keys[0]])\n",
        "\n",
        "    for key in keys[1:]:\n",
        "        df = ensure_datetime(dataframes_dict[key])\n",
        "        merged_df = pd.merge(merged_df, df, on=on, how=how, suffixes=('', '_dup'))\n",
        "        merged_df = remove_duplicate_columns(merged_df)\n",
        "\n",
        "    return merged_df"
      ]
    },
    {
      "cell_type": "code",
      "execution_count": 46,
      "metadata": {
        "id": "u7P33dJ-JsH6"
      },
      "outputs": [],
      "source": [
        "\n",
        "\n",
        "# Function to download historical stock data\n",
        "def download_stock_data(ticker, period=\"max\", interval=\"1d\"):\n",
        "    return yf.download(tickers=ticker, period=period, interval=interval)\n",
        "\n",
        "# Function to generate features for historical prices\n",
        "def generate_historical_features(df, ticker):\n",
        "    df['Ticker'] = ticker\n",
        "    df['Year'] = df.index.year\n",
        "    df['Month'] = df.index.month\n",
        "    df['Weekday'] = df.index.weekday\n",
        "    df['Date'] = df.index.date\n",
        "    for i in [1, 3, 7, 30, 90, 365]:\n",
        "        df[f'growth_{i}d'] = df['Adj Close'] / df['Adj Close'].shift(i)\n",
        "    df['growth_future_5d'] = df['Adj Close'].shift(-5) / df['Adj Close']\n",
        "    return df\n",
        "\n",
        "# Function to add technical indicators\n",
        "def add_technical_indicators(df):\n",
        "    df['SMA10'] = df['Close'].rolling(10).mean()\n",
        "    df['SMA20'] = df['Close'].rolling(20).mean()\n",
        "    df['growing_moving_average'] = np.where(df['SMA10'] > df['SMA20'], 1, 0)\n",
        "    df['high_minus_low_relative'] = (df.High - df.Low) / df['Adj Close']\n",
        "    df['volatility'] = df['Adj Close'].rolling(30).std() * np.sqrt(252)\n",
        "    df['is_positive_growth_5d_future'] = np.where(df['growth_future_5d'] > 1, 1, 0)\n",
        "    return df\n",
        "\n",
        "# Function to process all tickers\n",
        "def process_all_tickers(tickers):\n",
        "    stocks_df = pd.DataFrame({'A': []})\n",
        "    for i, ticker in enumerate(tickers):\n",
        "        print(i, ticker)\n",
        "\n",
        "        # Download and process stock data\n",
        "        historyPrices = download_stock_data(ticker)\n",
        "        historyPrices = generate_historical_features(historyPrices, ticker)\n",
        "        historyPrices = add_technical_indicators(historyPrices)\n",
        "\n",
        "        # Sleep 1 second between downloads\n",
        "        time.sleep(1)\n",
        "\n",
        "        # Concatenate dataframes\n",
        "        if stocks_df.empty:\n",
        "            stocks_df = historyPrices\n",
        "        else:\n",
        "            stocks_df = pd.concat([stocks_df, historyPrices], ignore_index=True)\n",
        "\n",
        "    return stocks_df\n",
        "\n",
        "# def get_ticker_type(ticker:str, african_currency_pairs_daily, forex_currency_pairs_daily):\n",
        "#   if ticker in african_currency_pairs_daily:\n",
        "#     return 'africa'\n",
        "#   elif ticker in forex_currency_pairs_daily:\n",
        "#     return 'other'\n",
        "#   else:\n",
        "#     return 'err'\n",
        "\n",
        "\n",
        "def get_ticker_type(\n",
        "    ticker:str,\n",
        "    african_currency_pairs_daily,\n",
        "    usa_currency_pairs_daily,\n",
        "    south_america_currency_pairs_daily,\n",
        "    europe_currency_pairs_daily,\n",
        "    asia_currency_pairs_daily\n",
        "    ):\n",
        "  if ticker in african_currency_pairs_daily:\n",
        "    return 'africa'\n",
        "  elif ticker in usa_currency_pairs_daily:\n",
        "    return 'usa'\n",
        "  elif ticker in south_america_currency_pairs_daily:\n",
        "    return 'south_america'\n",
        "  elif ticker in europe_currency_pairs_daily:\n",
        "    return 'europe'\n",
        "  elif ticker in asia_currency_pairs_daily:\n",
        "    return 'asia'\n",
        "  else:\n",
        "    return 'err'\n",
        "\n",
        "def write_dataframe_to_parquet(df, filepath):\n",
        "    \"\"\"\n",
        "    Write a DataFrame to a Parquet file.\n",
        "\n",
        "    Parameters:\n",
        "    df (pd.DataFrame): The DataFrame to be written to disk.\n",
        "    filepath (str): The file path where the Parquet file will be saved.\n",
        "    \"\"\"\n",
        "    df.to_parquet(filepath, engine='pyarrow')"
      ]
    },
    {
      "cell_type": "markdown",
      "metadata": {
        "id": "0MIanz71-acI"
      },
      "source": [
        "## 1.1. Financial Ratio\n",
        "\n",
        "Uncertain if we need this"
      ]
    },
    {
      "cell_type": "code",
      "execution_count": 11,
      "metadata": {
        "id": "uGXlcrR3z7cx"
      },
      "outputs": [],
      "source": [
        "# def convert_to_utc(df, column_name='Date'):\n",
        "#     df[column_name] = pd.to_datetime(df[column_name], utc=True)\n",
        "#     return df\n",
        "\n",
        "# # Function to compute growth and extract growth columns\n",
        "# def get_growth(df: pd.DataFrame, prefix: str) -> pd.DataFrame:\n",
        "#     for i in [1, 3, 7, 30, 90, 365]:\n",
        "#         df[f'growth_{prefix}_{i}d'] = df['Adj Close'] / df['Adj Close'].shift(i)\n",
        "#     growth_keys = [k for k in df.keys() if k.startswith('growth')]\n",
        "#     return df[growth_keys].dropna()\n",
        "\n",
        "# # Function to download and process data for a list of tickers\n",
        "# def download_and_process_data(tickers: list) -> dict:\n",
        "#     return {\n",
        "#         ticker: get_growth(yf.download(ticker, period=\"max\", interval=\"1d\"), ticker)\n",
        "#         for ticker in tickers\n",
        "#     }\n",
        "\n",
        "# # Function to access and assign the growth data for each ticker to variables\n",
        "# def assign_growth_data_to_variables(data_dict: dict) -> dict:\n",
        "#     variables = {}\n",
        "#     for ticker in data_dict.keys():\n",
        "#         var_name = ticker.replace(\"-\", \"\").replace(\"=\", \"\").lower() + \"_growth\"\n",
        "#         variables[var_name] = data_dict[ticker]\n",
        "#     return variables\n",
        "\n",
        "# # Function to download and prepare financial data\n",
        "# def get_financials_df(ticker: str) -> pd.DataFrame:\n",
        "#     stock = yf.Ticker(ticker)\n",
        "#     # Download financial data\n",
        "#     financials = stock.financials.T\n",
        "#     return financials\n",
        "\n",
        "# # Function to generate dataframes for each stock's financial data\n",
        "# def generate_financial_dfs(tickers: dict) -> dict:\n",
        "#     financial_dfs = {}\n",
        "#     for name, ticker in tickers.items():\n",
        "#         df_name = f\"{name.replace(' ', '_').lower()}_financials\"\n",
        "#         financial_dfs[df_name] = get_financials_df(ticker)\n",
        "#     return financial_dfs"
      ]
    },
    {
      "cell_type": "code",
      "execution_count": 12,
      "metadata": {
        "id": "_KFeC8zP1wSs"
      },
      "outputs": [],
      "source": [
        "# def ensure_datetime(df, date_column='Date'):\n",
        "#     \"\"\"\n",
        "#     Ensure the date_column is in datetime format with no timezone.\n",
        "\n",
        "#     Parameters:\n",
        "#     df (pd.DataFrame): The DataFrame to process.\n",
        "#     date_column (str): The name of the date column to process.\n",
        "\n",
        "#     Returns:\n",
        "#     pd.DataFrame: The processed DataFrame with datetime formatted column.\n",
        "#     \"\"\"\n",
        "#     if date_column in df.columns:\n",
        "#         df[date_column] = pd.to_datetime(df[date_column]).dt.tz_localize(None)\n",
        "#     else:\n",
        "#         df.index = pd.to_datetime(df.index).tz_localize(None)\n",
        "#         df.reset_index(inplace=True)\n",
        "#         df.rename(columns={'index': date_column}, inplace=True)\n",
        "#     return df\n",
        "\n",
        "\n",
        "\n",
        "# def remove_duplicate_columns(df) -> pd.DataFrame:\n",
        "#     \"\"\"\n",
        "#     Remove duplicate columns in a DataFrame.\n",
        "\n",
        "#     Parameters:\n",
        "#     df (pd.DataFrame): The DataFrame to process.\n",
        "\n",
        "#     Returns:\n",
        "#     pd.DataFrame: The processed DataFrame with duplicate columns removed.\n",
        "#     \"\"\"\n",
        "#     return df.loc[:, ~df.columns.duplicated()]\n",
        "\n",
        "\n",
        "\n",
        "# def merge_dataframes(dataframes_dict, on='Date', how='left') -> pd.DataFrame:\n",
        "#     \"\"\"\n",
        "#     Merge multiple DataFrames on a specified column.\n",
        "\n",
        "#     Parameters:\n",
        "#     dataframes_dict (dict): Dictionary of DataFrames to merge with keys as identifiers.\n",
        "#     on (str): The column name to merge on.\n",
        "#     how (str): The type of merge to be performed (default is 'left').\n",
        "\n",
        "#     Returns:\n",
        "#     pd.DataFrame: The merged DataFrame.\n",
        "#     \"\"\"\n",
        "#     keys = list(dataframes_dict.keys())\n",
        "#     merged_df = ensure_datetime(dataframes_dict[keys[0]])\n",
        "\n",
        "#     for key in keys[1:]:\n",
        "#         df = ensure_datetime(dataframes_dict[key])\n",
        "#         merged_df = pd.merge(merged_df, df, on=on, how=how, suffixes=('', '_dup'))\n",
        "#         merged_df = remove_duplicate_columns(merged_df)\n",
        "\n",
        "#     return merged_df"
      ]
    },
    {
      "cell_type": "code",
      "execution_count": 13,
      "metadata": {
        "id": "NRuxhASW3ajJ"
      },
      "outputs": [],
      "source": [
        "# def convert_to_utc(df, column_name='Date'):\n",
        "#     df[column_name] = pd.to_datetime(df[column_name], utc=True)\n",
        "#     return df\n",
        "\n",
        "# # Function to compute growth and extract growth columns\n",
        "# def get_growth(df: pd.DataFrame, prefix: str) -> pd.DataFrame:\n",
        "#     for i in [1, 3, 7, 30, 90, 365]:\n",
        "#         df[f'growth_{prefix}_{i}d'] = df['Adj Close'] / df['Adj Close'].shift(i)\n",
        "#     growth_keys = [k for k in df.keys() if k.startswith('growth')]\n",
        "#     return df[growth_keys].dropna()\n",
        "\n",
        "# # Function to download and process data for a list of tickers\n",
        "# def download_and_process_data(tickers: list) -> dict:\n",
        "#     return {\n",
        "#         ticker: get_growth(yf.download(ticker, period=\"max\", interval=\"1d\"), ticker)\n",
        "#         for ticker in tickers\n",
        "#     }\n",
        "\n",
        "# # Function to access and assign the growth data for each ticker to variables\n",
        "# def assign_growth_data_to_variables(data_dict: dict) -> dict:\n",
        "#     variables = {}\n",
        "#     for ticker in data_dict.keys():\n",
        "#         var_name = ticker.replace(\"-\", \"\").replace(\"=\", \"\").lower() + \"_growth\"\n",
        "#         variables[var_name] = data_dict[ticker]\n",
        "#     return variables\n",
        "\n",
        "# # Function to download and prepare financial data\n",
        "# def get_financials_df(ticker: str) -> pd.DataFrame:\n",
        "#     stock = yf.Ticker(ticker)\n",
        "#     # Download financial data\n",
        "#     financials = stock.financials.T\n",
        "#     return financials\n",
        "\n",
        "# # Function to generate dataframes for each stock's financial data\n",
        "# def generate_financial_dfs(tickers: dict) -> dict:\n",
        "#     financial_dfs = {}\n",
        "#     for name, ticker in tickers.items():\n",
        "#         df_name = f\"{name.replace(' ', '_').lower()}_financials\"\n",
        "#         financial_dfs[df_name] = get_financials_df(ticker)\n",
        "#     return financial_dfs"
      ]
    },
    {
      "cell_type": "code",
      "execution_count": 14,
      "metadata": {
        "id": "S_cKpXi_J639"
      },
      "outputs": [],
      "source": [
        "# def ensure_datetime(df):\n",
        "#     \"\"\"\n",
        "#     Ensure the 'Date' column is in datetime format without timezone.\n",
        "\n",
        "#     Parameters:\n",
        "#     df (pd.DataFrame): DataFrame to process.\n",
        "\n",
        "#     Returns:\n",
        "#     pd.DataFrame: DataFrame with 'Date' column in datetime format.\n",
        "#     \"\"\"\n",
        "#     df['Date'] = pd.to_datetime(df['Date']).dt.tz_localize(None)\n",
        "#     return df\n",
        "\n",
        "# def remove_duplicate_columns(df):\n",
        "#     \"\"\"\n",
        "#     Remove duplicate columns resulting from merge operations.\n",
        "\n",
        "#     Parameters:\n",
        "#     df (pd.DataFrame): DataFrame to process.\n",
        "\n",
        "#     Returns:\n",
        "#     pd.DataFrame: DataFrame with duplicate columns removed.\n",
        "#     \"\"\"\n",
        "#     cols_to_drop = [col for col in df.columns if '_dup' in col]\n",
        "#     df = df.drop(columns=cols_to_drop)\n",
        "#     return df\n",
        "\n",
        "# def final_merge_dataframes(dataframe_names, on='Date', how='left') -> pd.DataFrame:\n",
        "#     \"\"\"\n",
        "#     Merge multiple DataFrames on a specified column.\n",
        "\n",
        "#     Parameters:\n",
        "#     dataframe_names (list of str): List of DataFrame names to merge.\n",
        "#     on (str): The column name to merge on.\n",
        "#     how (str): The type of merge to be performed (default is 'left').\n",
        "\n",
        "#     Returns:\n",
        "#     pd.DataFrame: The merged DataFrame.\n",
        "#     \"\"\"\n",
        "#     if not dataframe_names:\n",
        "#         raise ValueError(\"The list of DataFrame names is empty.\")\n",
        "\n",
        "#     # Initialize with the first DataFrame\n",
        "#     merged_df = ensure_datetime(globals()[dataframe_names[0]])\n",
        "\n",
        "#     for name in dataframe_names[1:]:\n",
        "#         df = ensure_datetime(globals()[name])\n",
        "#         merged_df = pd.merge(merged_df, df, on=on, how=how, suffixes=('', '_dup'))\n",
        "#         merged_df = remove_duplicate_columns(merged_df)\n",
        "\n",
        "#     return merged_df\n",
        "\n"
      ]
    },
    {
      "cell_type": "markdown",
      "metadata": {
        "id": "ct_fWYGcLKyW"
      },
      "source": [
        "# data"
      ]
    },
    {
      "cell_type": "markdown",
      "metadata": {
        "id": "VyP0dT1Jjqdw"
      },
      "source": [
        "## 1.0. Financial Ratio"
      ]
    },
    {
      "cell_type": "markdown",
      "metadata": {
        "id": "ca6A4UiGm4Fv"
      },
      "source": [
        "## 2.0. Technical Indicators with TA-lib"
      ]
    },
    {
      "cell_type": "code",
      "execution_count": 15,
      "metadata": {
        "colab": {
          "base_uri": "https://localhost:8080/"
        },
        "id": "BOIR-nSFm2oD",
        "outputId": "034b137e-067e-4c1c-85c2-bc603fd0754f"
      },
      "outputs": [
        {
          "output_type": "stream",
          "name": "stdout",
          "text": [
            "  % Total    % Received % Xferd  Average Speed   Time    Time     Time  Current\n",
            "                                 Dload  Upload   Total   Spent    Left  Speed\n",
            "100  4083    0  4083    0     0  15602      0 --:--:-- --:--:-- --:--:-- 15583\n",
            "100  517k  100  517k    0     0   485k      0  0:00:01  0:00:01 --:--:--  485k\n",
            "  % Total    % Received % Xferd  Average Speed   Time    Time     Time  Current\n",
            "                                 Dload  Upload   Total   Spent    Left  Speed\n",
            "100  4115    0  4115    0     0  17753      0 --:--:-- --:--:-- --:--:-- 17813\n",
            "100  392k  100  392k    0     0   399k      0 --:--:-- --:--:-- --:--:-- 4576k\n"
          ]
        }
      ],
      "source": [
        "# https://stackoverflow.com/questions/49648391/how-to-install-ta-lib-in-google-colab\n",
        "# Update (apr 2023): Colab is now Python 3.10\n",
        "# there are some other (older) ways to install talib\n",
        "\n",
        "url = 'https://anaconda.org/conda-forge/libta-lib/0.4.0/download/linux-64/libta-lib-0.4.0-h166bdaf_1.tar.bz2'\n",
        "!curl -L $url | tar xj -C /usr/lib/x86_64-linux-gnu/ lib --strip-components=1\n",
        "url = 'https://anaconda.org/conda-forge/ta-lib/0.4.19/download/linux-64/ta-lib-0.4.19-py310hde88566_4.tar.bz2'\n",
        "!curl -L $url | tar xj -C /usr/local/lib/python3.10/dist-packages/ lib/python3.10/site-packages/talib --strip-components=3\n",
        "import talib"
      ]
    },
    {
      "cell_type": "markdown",
      "metadata": {
        "id": "maAWiiSZn25u"
      },
      "source": [
        "### 2.1. Momentum indicators"
      ]
    },
    {
      "cell_type": "code",
      "execution_count": 16,
      "metadata": {
        "id": "n1NdKlC7n4_c"
      },
      "outputs": [],
      "source": [
        "def talib_get_momentum_indicators_for_one_ticker(df: pd.DataFrame) -> pd.DataFrame:\n",
        "  # ADX - Average Directional Movement Index\n",
        "  talib_momentum_adx = talib.ADX(df.High.values, df.Low.values, df.Close.values, timeperiod=14)\n",
        "  # ADXR - Average Directional Movement Index Rating\n",
        "  talib_momentum_adxr = talib.ADXR(df.High.values, df.Low.values, df.Close.values, timeperiod=14 )\n",
        "  # APO - Absolute Price Oscillator\n",
        "  talib_momentum_apo = talib.APO(df.Close.values, fastperiod=12, slowperiod=26, matype=0 )\n",
        "  # AROON - Aroon\n",
        "  talib_momentum_aroon = talib.AROON(df.High.values, df.Low.values, timeperiod=14 )\n",
        "  # talib_momentum_aroon[0].size\n",
        "  # talib_momentum_aroon[1].size\n",
        "  # AROONOSC - Aroon Oscillator\n",
        "  talib_momentum_aroonosc = talib.AROONOSC(df.High.values, df.Low.values, timeperiod=14)\n",
        "  # BOP - Balance of Power\n",
        "  # https://school.stockcharts.com/doku.php?id=technical_indicators:balance_of_power\n",
        "     #calculate open prices as shifted closed prices from the prev day\n",
        "     # open = df.Last.shift(1)\n",
        "  talib_momentum_bop = talib.BOP(df.Open.values, df.High.values, df.Low.values, df.Close.values)\n",
        "  # CCI - Commodity Channel Index\n",
        "  talib_momentum_cci = talib.CCI(df.High.values, df.Low.values, df.Close.values, timeperiod=14)\n",
        "  # CMO - Chande Momentum Oscillator\n",
        "  talib_momentum_cmo = talib.CMO(df.Close.values, timeperiod=14)\n",
        "  # DX - Directional Movement Index\n",
        "  talib_momentum_dx = talib.DX(df.High.values, df.Low.values, df.Close.values, timeperiod=14)\n",
        "  # MACD - Moving Average Convergence/Divergence\n",
        "  talib_momentum_macd, talib_momentum_macdsignal, talib_momentum_macdhist = talib.MACD(df.Close.values, fastperiod=12, \\\n",
        "                                                                                       slowperiod=26, signalperiod=9)\n",
        "  # MACDEXT - MACD with controllable MA type\n",
        "  talib_momentum_macd_ext, talib_momentum_macdsignal_ext, talib_momentum_macdhist_ext = talib.MACDEXT(df.Close.values, \\\n",
        "                                                                                                    fastperiod=12, \\\n",
        "                                                                                                    fastmatype=0, \\\n",
        "                                                                                                    slowperiod=26, \\\n",
        "                                                                                                    slowmatype=0, \\\n",
        "                                                                                                    signalperiod=9, \\\n",
        "                                                                                                  signalmatype=0)\n",
        "  # MACDFIX - Moving Average Convergence/Divergence Fix 12/26\n",
        "  talib_momentum_macd_fix, talib_momentum_macdsignal_fix, talib_momentum_macdhist_fix = talib.MACDFIX(df.Close.values, \\\n",
        "                                                                                                      signalperiod=9)\n",
        "  # MFI - Money Flow Index\n",
        "  talib_momentum_mfi = talib.MFI(df.High.values, df.Low.values, df.Close.values, df.Volume.values, timeperiod=14)\n",
        "  # MINUS_DI - Minus Directional Indicator\n",
        "  talib_momentum_minus_di = talib.MINUS_DM(df.High.values, df.Low.values, timeperiod=14)\n",
        "  # MOM - Momentum\n",
        "  talib_momentum_mom = talib.MOM(df.Close.values, timeperiod=10)\n",
        "  # PLUS_DI - Plus Directional Indicator\n",
        "  talib_momentum_plus_di = talib.PLUS_DI(df.High.values, df.Low.values, df.Close.values, timeperiod=14)\n",
        "  # PLUS_DM - Plus Directional Movement\n",
        "  talib_momentum_plus_dm = talib.PLUS_DM(df.High.values, df.Low.values, timeperiod=14)\n",
        "  # PPO - Percentage Price Oscillator\n",
        "  talib_momentum_ppo = talib.PPO(df.Close.values, fastperiod=12, slowperiod=26, matype=0)\n",
        "  # ROC - Rate of change : ((price/prevPrice)-1)*100\n",
        "  talib_momentum_roc = talib.ROC(df.Close.values, timeperiod=10)\n",
        "  # ROCP - Rate of change Percentage: (price-prevPrice)/prevPrice\n",
        "  talib_momentum_rocp = talib.ROCP(df.Close.values, timeperiod=10)\n",
        "  # ROCR - Rate of change ratio: (price/prevPrice)\n",
        "  talib_momentum_rocr = talib.ROCR(df.Close.values, timeperiod=10)\n",
        "  # ROCR100 - Rate of change ratio 100 scale: (price/prevPrice)*100\n",
        "  talib_momentum_rocr100 = talib.ROCR100(df.Close.values, timeperiod=10)\n",
        "  # RSI - Relative Strength Index\n",
        "  talib_momentum_rsi = talib.RSI(df.Close.values, timeperiod=14)\n",
        "  # STOCH - Stochastic\n",
        "  talib_momentum_slowk, talib_momentum_slowd = talib.STOCH(df.High.values, df.Low.values, df.Close.values, \\\n",
        "                                                           fastk_period=5, slowk_period=3, slowk_matype=0, slowd_period=3, slowd_matype=0)\n",
        "  # STOCHF - Stochastic Fast\n",
        "  talib_momentum_fastk, talib_momentum_fastd = talib.STOCHF(df.High.values, df.Low.values, df.Close.values, \\\n",
        "                                                            fastk_period=5, fastd_period=3, fastd_matype=0)\n",
        "  # STOCHRSI - Stochastic Relative Strength Index\n",
        "  talib_momentum_fastk_rsi, talib_momentum_fastd_rsi = talib.STOCHRSI(df.Close.values, timeperiod=14, \\\n",
        "                                                                      fastk_period=5, fastd_period=3, fastd_matype=0)\n",
        "  # TRIX - 1-day Rate-Of-Change (ROC) of a Triple Smooth EMA\n",
        "  talib_momentum_trix = talib.TRIX(df.Close.values, timeperiod=30)\n",
        "  # ULTOSC - Ultimate Oscillator\n",
        "  talib_momentum_ultosc = talib.ULTOSC(df.High.values, df.Low.values, df.Close.values, timeperiod1=7, timeperiod2=14, timeperiod3=28)\n",
        "  # WILLR - Williams' %R\n",
        "  talib_momentum_willr = talib.WILLR(df.High.values, df.Low.values, df.Close.values, timeperiod=14)\n",
        "\n",
        "  momentum_df =   pd.DataFrame(\n",
        "    {\n",
        "      # assume here multi-index\n",
        "      # 'datetime': df.index.get_level_values(0),\n",
        "      # 'ticker': df.index.get_level_values(1) ,\n",
        "\n",
        "      # old way with separate columns\n",
        "      'Date': df.Date.values,\n",
        "      'Ticker': df.Ticker,\n",
        "\n",
        "      'adx': talib_momentum_adx,\n",
        "      'adxr': talib_momentum_adxr,\n",
        "      'apo': talib_momentum_apo,\n",
        "      'aroon_1': talib_momentum_aroon[0] ,\n",
        "      'aroon_2': talib_momentum_aroon[1],\n",
        "      'aroonosc': talib_momentum_aroonosc,\n",
        "      'bop': talib_momentum_bop,\n",
        "      'cci': talib_momentum_cci,\n",
        "      'cmo': talib_momentum_cmo,\n",
        "      'dx': talib_momentum_dx,\n",
        "      'macd': talib_momentum_macd,\n",
        "      'macdsignal': talib_momentum_macdsignal,\n",
        "      'macdhist': talib_momentum_macdhist,\n",
        "      'macd_ext': talib_momentum_macd_ext,\n",
        "      'macdsignal_ext': talib_momentum_macdsignal_ext,\n",
        "      'macdhist_ext': talib_momentum_macdhist_ext,\n",
        "      'macd_fix': talib_momentum_macd_fix,\n",
        "      'macdsignal_fix': talib_momentum_macdsignal_fix,\n",
        "      'macdhist_fix': talib_momentum_macdhist_fix,\n",
        "      'mfi': talib_momentum_mfi,\n",
        "      'minus_di': talib_momentum_minus_di,\n",
        "      'mom': talib_momentum_mom,\n",
        "      'plus_di': talib_momentum_plus_di,\n",
        "      'dm': talib_momentum_plus_dm,\n",
        "      'ppo': talib_momentum_ppo,\n",
        "      'roc': talib_momentum_roc,\n",
        "      'rocp': talib_momentum_rocp,\n",
        "      'rocr': talib_momentum_rocr,\n",
        "      'rocr100': talib_momentum_rocr100,\n",
        "      'rsi': talib_momentum_rsi,\n",
        "      'slowk': talib_momentum_slowk,\n",
        "      'slowd': talib_momentum_slowd,\n",
        "      'fastk': talib_momentum_fastk,\n",
        "      'fastd': talib_momentum_fastd,\n",
        "      'fastk_rsi': talib_momentum_fastk_rsi,\n",
        "      'fastd_rsi': talib_momentum_fastd_rsi,\n",
        "      'trix': talib_momentum_trix,\n",
        "      'ultosc': talib_momentum_ultosc,\n",
        "      'willr': talib_momentum_willr,\n",
        "     }\n",
        "  )\n",
        "  return momentum_df\n"
      ]
    },
    {
      "cell_type": "code",
      "execution_count": 16,
      "metadata": {
        "id": "jXNA2c45n8lu"
      },
      "outputs": [],
      "source": []
    },
    {
      "cell_type": "markdown",
      "metadata": {
        "id": "OLF1S4_Zn24L"
      },
      "source": [
        "### 2.2. Volume, Volatility, Cycle, Price indicators"
      ]
    },
    {
      "cell_type": "code",
      "execution_count": 17,
      "metadata": {
        "id": "Psh3JSvmnOp-"
      },
      "outputs": [],
      "source": [
        "def talib_get_volume_volatility_cycle_price_indicators(df: pd.DataFrame) -> pd.DataFrame:\n",
        "        # TA-Lib Volume indicators\n",
        "        # https://github.com/TA-Lib/ta-lib-python/blob/master/docs/func_groups/volume_indicators.md\n",
        "        # AD - Chaikin A/D Line\n",
        "        talib_ad = talib.AD(\n",
        "            df.High.values, df.Low.values, df.Close.values, df.Volume.values)\n",
        "        # ADOSC - Chaikin A/D Oscillator\n",
        "        talib_adosc = talib.ADOSC(\n",
        "            df.High.values, df.Low.values, df.Close.values, df.Volume.values, fastperiod=3, slowperiod=10)\n",
        "        # OBV - On Balance Volume\n",
        "        talib_obv = talib.OBV(\n",
        "            df.Close.values, df.Volume.values)\n",
        "\n",
        "        # TA-Lib Volatility indicators\n",
        "        # https://github.com/TA-Lib/ta-lib-python/blob/master/docs/func_groups/volatility_indicators.md\n",
        "        # ATR - Average True Range\n",
        "        talib_atr = talib.ATR(\n",
        "            df.High.values, df.Low.values, df.Close.values, timeperiod=14)\n",
        "        # NATR - Normalized Average True Range\n",
        "        talib_natr = talib.NATR(\n",
        "            df.High.values, df.Low.values, df.Close.values, timeperiod=14)\n",
        "        # OBV - On Balance Volume\n",
        "        talib_obv = talib.OBV(\n",
        "            df.Close.values, df.Volume.values)\n",
        "\n",
        "        # TA-Lib Cycle Indicators\n",
        "        # https://github.com/TA-Lib/ta-lib-python/blob/master/docs/func_groups/cycle_indicators.md\n",
        "        # HT_DCPERIOD - Hilbert Transform - Dominant Cycle Period\n",
        "        talib_ht_dcperiod = talib.HT_DCPERIOD(df.Close.values)\n",
        "        # HT_DCPHASE - Hilbert Transform - Dominant Cycle Phase\n",
        "        talib_ht_dcphase = talib.HT_DCPHASE(df.Close.values)\n",
        "        # HT_PHASOR - Hilbert Transform - Phasor Components\n",
        "        talib_ht_phasor_inphase, talib_ht_phasor_quadrature = talib.HT_PHASOR(\n",
        "            df.Close.values)\n",
        "        # HT_SINE - Hilbert Transform - SineWave\n",
        "        talib_ht_sine_sine, talib_ht_sine_leadsine = talib.HT_SINE(\n",
        "            df.Close.values)\n",
        "        # HT_TRENDMODE - Hilbert Transform - Trend vs Cycle Mode\n",
        "        talib_ht_trendmode = talib.HT_TRENDMODE(df.Close.values)\n",
        "\n",
        "        # TA-Lib Price Transform Functions\n",
        "        # https://github.com/TA-Lib/ta-lib-python/blob/master/docs/func_groups/price_transform.md\n",
        "        # AVGPRICE - Average Price\n",
        "        talib_avgprice = talib.AVGPRICE(\n",
        "            df.Open.values, df.High.values, df.Low.values, df.Close.values)\n",
        "        # MEDPRICE - Median Price\n",
        "        talib_medprice = talib.MEDPRICE(df.High.values, df.Low.values)\n",
        "        # TYPPRICE - Typical Price\n",
        "        talib_typprice = talib.TYPPRICE(\n",
        "            df.High.values, df.Low.values, df.Close.values)\n",
        "        # WCLPRICE - Weighted Close Price\n",
        "        talib_wclprice = talib.WCLPRICE(\n",
        "            df.High.values, df.Low.values, df.Close.values)\n",
        "\n",
        "        volume_volatility_cycle_price_df = pd.DataFrame(\n",
        "            {'Date': df.Date.values,\n",
        "             'Ticker': df.Ticker,\n",
        "             # TA-Lib Volume indicators\n",
        "             'ad': talib_ad,\n",
        "             'adosc': talib_adosc,\n",
        "             'obv': talib_obv,\n",
        "             # TA-Lib Volatility indicators\n",
        "             'atr': talib_atr,\n",
        "             'natr': talib_natr,\n",
        "             'obv': talib_obv,\n",
        "             # TA-Lib Cycle Indicators\n",
        "             'ht_dcperiod': talib_ht_dcperiod,\n",
        "             'ht_dcphase': talib_ht_dcphase,\n",
        "             'ht_phasor_inphase': talib_ht_phasor_inphase,\n",
        "             'ht_phasor_quadrature': talib_ht_phasor_quadrature,\n",
        "             'ht_sine_sine': talib_ht_sine_sine,\n",
        "             'ht_sine_leadsine': talib_ht_sine_leadsine,\n",
        "             'ht_trendmod': talib_ht_trendmode,\n",
        "             # TA-Lib Price Transform Functions\n",
        "             'avgprice': talib_avgprice,\n",
        "             'medprice': talib_medprice,\n",
        "             'typprice': talib_typprice,\n",
        "             'wclprice': talib_wclprice,\n",
        "             }\n",
        "        )\n",
        "\n",
        "        # Need a proper date type\n",
        "        volume_volatility_cycle_price_df['Date'] = pd.to_datetime(\n",
        "            volume_volatility_cycle_price_df['Date'])\n",
        "\n",
        "        return volume_volatility_cycle_price_df\n"
      ]
    },
    {
      "cell_type": "markdown",
      "metadata": {
        "id": "LxGTI1sHoJvt"
      },
      "source": [
        "### 2.3. Pattern indicators"
      ]
    },
    {
      "cell_type": "code",
      "execution_count": 18,
      "metadata": {
        "id": "S-IfftO4oMoR"
      },
      "outputs": [],
      "source": [
        "def talib_get_pattern_recognition_indicators(df: pd.DataFrame) -> pd.DataFrame:\n",
        "# TA-Lib Pattern Recognition indicators\n",
        "        # https://github.com/TA-Lib/ta-lib-python/blob/master/docs/func_groups/pattern_recognition.md\n",
        "        # Nice article about candles (pattern recognition) https://medium.com/analytics-vidhya/recognizing-over-50-candlestick-patterns-with-python-4f02a1822cb5\n",
        "\n",
        "        # CDL2CROWS - Two Crows\n",
        "        talib_cdl2crows = talib.CDL2CROWS(\n",
        "            df.Open.values, df.High.values, df.Low.values, df.Close.values)\n",
        "        # CDL3BLACKCROWS - Three Black Crows\n",
        "        talib_cdl3blackrows = talib.CDL3BLACKCROWS(\n",
        "            df.Open.values, df.High.values, df.Low.values, df.Close.values)\n",
        "        # CDL3INSIDE - Three Inside Up/Down\n",
        "        talib_cdl3inside = talib.CDL3INSIDE(\n",
        "            df.Open.values, df.High.values, df.Low.values, df.Close.values)\n",
        "        # CDL3LINESTRIKE - Three-Line Strike\n",
        "        talib_cdl3linestrike = talib.CDL3LINESTRIKE(\n",
        "            df.Open.values, df.High.values, df.Low.values, df.Close.values)\n",
        "        # CDL3OUTSIDE - Three Outside Up/Down\n",
        "        talib_cdl3outside = talib.CDL3OUTSIDE(\n",
        "            df.Open.values, df.High.values, df.Low.values, df.Close.values)\n",
        "        # CDL3STARSINSOUTH - Three Stars In The South\n",
        "        talib_cdl3starsinsouth = talib.CDL3STARSINSOUTH(\n",
        "            df.Open.values, df.High.values, df.Low.values, df.Close.values)\n",
        "        # CDL3WHITESOLDIERS - Three Advancing White Soldiers\n",
        "        talib_cdl3whitesoldiers = talib.CDL3WHITESOLDIERS(\n",
        "            df.Open.values, df.High.values, df.Low.values, df.Close.values)\n",
        "        # CDLABANDONEDBABY - Abandoned Baby\n",
        "        talib_cdlabandonedbaby = talib.CDLABANDONEDBABY(\n",
        "            df.Open.values, df.High.values, df.Low.values, df.Close.values, penetration=0)\n",
        "        # CDLADVANCEBLOCK - Advance Block\n",
        "        talib_cdladvancedblock = talib.CDLADVANCEBLOCK(\n",
        "            df.Open.values, df.High.values, df.Low.values, df.Close.values)\n",
        "        # CDLBELTHOLD - Belt-hold\n",
        "        talib_cdlbelthold = talib.CDLBELTHOLD(\n",
        "            df.Open.values, df.High.values, df.Low.values, df.Close.values)\n",
        "        # CDLBREAKAWAY - Breakaway\n",
        "        talib_cdlbreakaway = talib.CDLBREAKAWAY(\n",
        "            df.Open.values, df.High.values, df.Low.values, df.Close.values)\n",
        "        # CDLCLOSINGMARUBOZU - Closing Marubozu\n",
        "        talib_cdlclosingmarubozu = talib.CDLCLOSINGMARUBOZU(\n",
        "            df.Open.values, df.High.values, df.Low.values, df.Close.values)\n",
        "        # CDLCONCEALBABYSWALL - Concealing Baby Swallow\n",
        "        talib_cdlconcealbabyswall = talib.CDLCONCEALBABYSWALL(\n",
        "            df.Open.values, df.High.values, df.Low.values, df.Close.values)\n",
        "        # CDLCOUNTERATTACK - Counterattack\n",
        "        talib_cdlcounterattack = talib.CDLCOUNTERATTACK(\n",
        "            df.Open.values, df.High.values, df.Low.values, df.Close.values)\n",
        "        # CDLDARKCLOUDCOVER - Dark Cloud Cover\n",
        "        talib_cdldarkcloudcover = talib.CDLDARKCLOUDCOVER(\n",
        "            df.Open.values, df.High.values, df.Low.values, df.Close.values, penetration=0)\n",
        "        # CDLDOJI - Doji\n",
        "        talib_cdldoji = talib.CDLDOJI(\n",
        "            df.Open.values, df.High.values, df.Low.values, df.Close.values)\n",
        "        # CDLDOJISTAR - Doji Star\n",
        "        talib_cdldojistar = talib.CDLDOJISTAR(\n",
        "            df.Open.values, df.High.values, df.Low.values, df.Close.values)\n",
        "        # CDLDRAGONFLYDOJI - Dragonfly Doji\n",
        "        talib_cdldragonflydoji = talib.CDLDRAGONFLYDOJI(\n",
        "            df.Open.values, df.High.values, df.Low.values, df.Close.values)\n",
        "        # CDLENGULFING - Engulfing Pattern\n",
        "        talib_cdlengulfing = talib.CDLENGULFING(\n",
        "            df.Open.values, df.High.values, df.Low.values, df.Close.values)\n",
        "\n",
        "        # CDLEVENINGDOJISTAR - Evening Doji Star\n",
        "        talib_cdleveningdojistar = talib.CDLEVENINGDOJISTAR(\n",
        "            df.Open.values, df.High.values, df.Low.values, df.Close.values, penetration=0)\n",
        "        # CDLEVENINGSTAR - Evening Star\n",
        "        talib_cdleveningstar = talib.CDLEVENINGSTAR(\n",
        "            df.Open.values, df.High.values, df.Low.values, df.Close.values, penetration=0)\n",
        "        # CDLGAPSIDESIDEWHITE - Up/Down-gap side-by-side white lines\n",
        "        talib_cdlgapsidesidewhite = talib.CDLGAPSIDESIDEWHITE(\n",
        "            df.Open.values, df.High.values, df.Low.values, df.Close.values)\n",
        "        # CDLGRAVESTONEDOJI - Gravestone Doji\n",
        "        talib_cdlgravestonedoji = talib.CDLGRAVESTONEDOJI(\n",
        "            df.Open.values, df.High.values, df.Low.values, df.Close.values)\n",
        "        # CDLHAMMER - Hammer\n",
        "        talib_cdlhammer = talib.CDLHAMMER(\n",
        "            df.Open.values, df.High.values, df.Low.values, df.Close.values)\n",
        "        # CDLHANGINGMAN - Hanging Man\n",
        "        talib_cdlhangingman = talib.CDLHANGINGMAN(\n",
        "            df.Open.values, df.High.values, df.Low.values, df.Close.values)\n",
        "        # CDLHARAMI - Harami Pattern\n",
        "        talib_cdlharami = talib.CDLHARAMI(\n",
        "            df.Open.values, df.High.values, df.Low.values, df.Close.values)\n",
        "        # CDLHARAMICROSS - Harami Cross Pattern\n",
        "        talib_cdlharamicross = talib.CDLHARAMICROSS(\n",
        "            df.Open.values, df.High.values, df.Low.values, df.Close.values)\n",
        "        # CDLHIGHWAVE - High-Wave Candle\n",
        "        talib_cdlhighwave = talib.CDLHIGHWAVE(\n",
        "            df.Open.values, df.High.values, df.Low.values, df.Close.values)\n",
        "        # CDLHIKKAKE - Hikkake Pattern\n",
        "        talib_cdlhikkake = talib.CDLHIKKAKE(\n",
        "            df.Open.values, df.High.values, df.Low.values, df.Close.values)\n",
        "        # CDLHIKKAKEMOD - Modified Hikkake Pattern\n",
        "        talib_cdlhikkakemod = talib.CDLHIKKAKEMOD(\n",
        "            df.Open.values, df.High.values, df.Low.values, df.Close.values)\n",
        "\n",
        "        # CDLHOMINGPIGEON - Homing Pigeon\n",
        "        talib_cdlhomingpigeon = talib.CDLHOMINGPIGEON(\n",
        "            df.Open.values, df.High.values, df.Low.values, df.Close.values)\n",
        "        # CDLIDENTICAL3CROWS - Identical Three Crows\n",
        "        talib_cdlidentical3crows = talib.CDLIDENTICAL3CROWS(\n",
        "            df.Open.values, df.High.values, df.Low.values, df.Close.values)\n",
        "        # CDLINNECK - In-Neck Pattern\n",
        "        talib_cdlinneck = talib.CDLINNECK(\n",
        "            df.Open.values, df.High.values, df.Low.values, df.Close.values)\n",
        "        # CDLINVERTEDHAMMER - Inverted Hammer\n",
        "        talib_cdlinvertedhammer = talib.CDLINVERTEDHAMMER(\n",
        "            df.Open.values, df.High.values, df.Low.values, df.Close.values)\n",
        "        # CDLKICKING - Kicking\n",
        "        talib_cdlkicking = talib.CDLKICKING(\n",
        "            df.Open.values, df.High.values, df.Low.values, df.Close.values)\n",
        "        # CDLKICKINGBYLENGTH - Kicking - bull/bear determined by the longer marubozu\n",
        "        talib_cdlkickingbylength = talib.CDLKICKINGBYLENGTH(\n",
        "            df.Open.values, df.High.values, df.Low.values, df.Close.values)\n",
        "        # CDLLADDERBOTTOM - Ladder Bottom\n",
        "        talib_cdlladderbottom = talib.CDLLADDERBOTTOM(\n",
        "            df.Open.values, df.High.values, df.Low.values, df.Close.values)\n",
        "        # CDLLONGLEGGEDDOJI - Long Legged Doji\n",
        "        talib_cdllongleggeddoji = talib.CDLLONGLEGGEDDOJI(\n",
        "            df.Open.values, df.High.values, df.Low.values, df.Close.values)\n",
        "        # CDLLONGLINE - Long Line Candle\n",
        "        talib_cdllongline = talib.CDLLONGLINE(\n",
        "            df.Open.values, df.High.values, df.Low.values, df.Close.values)\n",
        "        # CDLMARUBOZU - Marubozu\n",
        "        talib_cdlmarubozu = talib.CDLMARUBOZU(\n",
        "            df.Open.values, df.High.values, df.Low.values, df.Close.values)\n",
        "        # CDLMATCHINGLOW - Matching Low\n",
        "        talib_cdlmatchinglow = talib.CDLMATCHINGLOW(\n",
        "            df.Open.values, df.High.values, df.Low.values, df.Close.values)\n",
        "\n",
        "        # CDLMATHOLD - Mat Hold\n",
        "        talib_cdlmathold = talib.CDLMATHOLD(\n",
        "            df.Open.values, df.High.values, df.Low.values, df.Close.values, penetration=0)\n",
        "        # CDLMORNINGDOJISTAR - Morning Doji Star\n",
        "        talib_cdlmorningdojistar = talib.CDLMORNINGDOJISTAR(\n",
        "            df.Open.values, df.High.values, df.Low.values, df.Close.values, penetration=0)\n",
        "        # CDLMORNINGSTAR - Morning Star\n",
        "        talib_cdlmorningstar = talib.CDLMORNINGSTAR(\n",
        "            df.Open.values, df.High.values, df.Low.values, df.Close.values, penetration=0)\n",
        "        # CDLONNECK - On-Neck Pattern\n",
        "        talib_cdlonneck = talib.CDLONNECK(\n",
        "            df.Open.values, df.High.values, df.Low.values, df.Close.values)\n",
        "        # CDLPIERCING - Piercing Pattern\n",
        "        talib_cdlpiercing = talib.CDLPIERCING(\n",
        "            df.Open.values, df.High.values, df.Low.values, df.Close.values)\n",
        "        # CDLRICKSHAWMAN - Rickshaw Man\n",
        "        talib_cdlrickshawman = talib.CDLRICKSHAWMAN(\n",
        "            df.Open.values, df.High.values, df.Low.values, df.Close.values)\n",
        "        # CDLRISEFALL3METHODS - Rising/Falling Three Methods\n",
        "        talib_cdlrisefall3methods = talib.CDLRISEFALL3METHODS(\n",
        "            df.Open.values, df.High.values, df.Low.values, df.Close.values)\n",
        "        # CDLSEPARATINGLINES - Separating Lines\n",
        "        talib_cdlseparatinglines = talib.CDLSEPARATINGLINES(\n",
        "            df.Open.values, df.High.values, df.Low.values, df.Close.values)\n",
        "        # CDLSHOOTINGSTAR - Shooting Star\n",
        "        talib_cdlshootingstar = talib.CDLSHOOTINGSTAR(\n",
        "            df.Open.values, df.High.values, df.Low.values, df.Close.values)\n",
        "        # CDLSHORTLINE - Short Line Candle\n",
        "        talib_cdlshortline = talib.CDLSHORTLINE(\n",
        "            df.Open.values, df.High.values, df.Low.values, df.Close.values)\n",
        "        # CDLSPINNINGTOP - Spinning Top\n",
        "        talib_cdlspinningtop = talib.CDLSPINNINGTOP(\n",
        "            df.Open.values, df.High.values, df.Low.values, df.Close.values)\n",
        "\n",
        "        # CDLSTALLEDPATTERN - Stalled Pattern\n",
        "        talib_cdlstalledpattern = talib.CDLSTALLEDPATTERN(\n",
        "            df.Open.values, df.High.values, df.Low.values, df.Close.values)\n",
        "        # CDLSTICKSANDWICH - Stick Sandwich\n",
        "        talib_cdlsticksandwich = talib.CDLSTICKSANDWICH(\n",
        "            df.Open.values, df.High.values, df.Low.values, df.Close.values)\n",
        "        # CDLTAKURI - Takuri (Dragonfly Doji with very long lower shadow)\n",
        "        talib_cdltakuru = talib.CDLTAKURI(\n",
        "            df.Open.values, df.High.values, df.Low.values, df.Close.values)\n",
        "        # CDLTASUKIGAP - Tasuki Gap\n",
        "        talib_cdltasukigap = talib.CDLTASUKIGAP(\n",
        "            df.Open.values, df.High.values, df.Low.values, df.Close.values)\n",
        "        # CDLTHRUSTING - Thrusting Pattern\n",
        "        talib_cdlthrusting = talib.CDLTHRUSTING(\n",
        "            df.Open.values, df.High.values, df.Low.values, df.Close.values)\n",
        "        # CDLTRISTAR - Tristar Pattern\n",
        "        talib_cdltristar = talib.CDLTRISTAR(\n",
        "            df.Open.values, df.High.values, df.Low.values, df.Close.values)\n",
        "        # CDLUNIQUE3RIVER - Unique 3 River\n",
        "        talib_cdlunique3river = talib.CDLUNIQUE3RIVER(\n",
        "            df.Open.values, df.High.values, df.Low.values, df.Close.values)\n",
        "        # CDLUPSIDEGAP2CROWS - Upside Gap Two Crows\n",
        "        talib_cdlupsidegap2crows = talib.CDLUPSIDEGAP2CROWS(\n",
        "            df.Open.values, df.High.values, df.Low.values, df.Close.values)\n",
        "        # CDLXSIDEGAP3METHODS - Upside/Downside Gap Three Methods\n",
        "        talib_cdlxsidegap3methods = talib.CDLXSIDEGAP3METHODS(\n",
        "            df.Open.values, df.High.values, df.Low.values, df.Close.values)\n",
        "\n",
        "        pattern_indicators_df = pd.DataFrame(\n",
        "            {'Date': df.Date.values,\n",
        "             'Ticker': df.Ticker,\n",
        "             # TA-Lib Pattern Recognition indicators\n",
        "             'cdl2crows': talib_cdl2crows,\n",
        "             'cdl3blackrows': talib_cdl3blackrows,\n",
        "             'cdl3inside': talib_cdl3inside,\n",
        "             'cdl3linestrike': talib_cdl3linestrike,\n",
        "             'cdl3outside': talib_cdl3outside,\n",
        "             'cdl3starsinsouth': talib_cdl3starsinsouth,\n",
        "             'cdl3whitesoldiers': talib_cdl3whitesoldiers,\n",
        "             'cdlabandonedbaby': talib_cdlabandonedbaby,\n",
        "             'cdladvancedblock': talib_cdladvancedblock,\n",
        "             'cdlbelthold': talib_cdlbelthold,\n",
        "             'cdlbreakaway': talib_cdlbreakaway,\n",
        "             'cdlclosingmarubozu': talib_cdlclosingmarubozu,\n",
        "             'cdlconcealbabyswall': talib_cdlconcealbabyswall,\n",
        "             'cdlcounterattack': talib_cdlcounterattack,\n",
        "             'cdldarkcloudcover': talib_cdldarkcloudcover,\n",
        "             'cdldoji': talib_cdldoji,\n",
        "             'cdldojistar': talib_cdldojistar,\n",
        "             'cdldragonflydoji': talib_cdldragonflydoji,\n",
        "             'cdlengulfing': talib_cdlengulfing,\n",
        "             'cdleveningdojistar': talib_cdleveningdojistar,\n",
        "             'cdleveningstar': talib_cdleveningstar,\n",
        "             'cdlgapsidesidewhite': talib_cdlgapsidesidewhite,\n",
        "             'cdlgravestonedoji': talib_cdlgravestonedoji,\n",
        "             'cdlhammer': talib_cdlhammer,\n",
        "             'cdlhangingman': talib_cdlhangingman,\n",
        "             'cdlharami': talib_cdlharami,\n",
        "             'cdlharamicross': talib_cdlharamicross,\n",
        "             'cdlhighwave': talib_cdlhighwave,\n",
        "             'cdlhikkake': talib_cdlhikkake,\n",
        "             'cdlhikkakemod': talib_cdlhikkakemod,\n",
        "             'cdlhomingpigeon': talib_cdlhomingpigeon,\n",
        "             'cdlidentical3crows': talib_cdlidentical3crows,\n",
        "             'cdlinneck': talib_cdlinneck,\n",
        "             'cdlinvertedhammer': talib_cdlinvertedhammer,\n",
        "             'cdlkicking': talib_cdlkicking,\n",
        "             'cdlkickingbylength': talib_cdlkickingbylength,\n",
        "             'cdlladderbottom': talib_cdlladderbottom,\n",
        "             'cdllongleggeddoji': talib_cdllongleggeddoji,\n",
        "             'cdllongline': talib_cdllongline,\n",
        "             'cdlmarubozu': talib_cdlmarubozu,\n",
        "             'cdlmatchinglow': talib_cdlmatchinglow,\n",
        "             'cdlmathold': talib_cdlmathold,\n",
        "             'cdlmorningdojistar': talib_cdlmorningdojistar,\n",
        "             'cdlmorningstar': talib_cdlmorningstar,\n",
        "             'cdlonneck': talib_cdlonneck,\n",
        "             'cdlpiercing': talib_cdlpiercing,\n",
        "             'cdlrickshawman': talib_cdlrickshawman,\n",
        "             'cdlrisefall3methods': talib_cdlrisefall3methods,\n",
        "             'cdlseparatinglines': talib_cdlseparatinglines,\n",
        "             'cdlshootingstar': talib_cdlshootingstar,\n",
        "             'cdlshortline': talib_cdlshortline,\n",
        "             'cdlspinningtop': talib_cdlspinningtop,\n",
        "             'cdlstalledpattern': talib_cdlstalledpattern,\n",
        "             'cdlsticksandwich': talib_cdlsticksandwich,\n",
        "             'cdltakuru': talib_cdltakuru,\n",
        "             'cdltasukigap': talib_cdltasukigap,\n",
        "             'cdlthrusting': talib_cdlthrusting,\n",
        "             'cdltristar': talib_cdltristar,\n",
        "             'cdlunique3river': talib_cdlunique3river,\n",
        "             'cdlupsidegap2crows': talib_cdlupsidegap2crows,\n",
        "             'cdlxsidegap3methods': talib_cdlxsidegap3methods\n",
        "             }\n",
        "        )\n",
        "\n",
        "        # Need a proper date type\n",
        "        pattern_indicators_df['Date'] = pd.to_datetime(\n",
        "            pattern_indicators_df['Date'])\n",
        "\n",
        "        return pattern_indicators_df"
      ]
    },
    {
      "cell_type": "markdown",
      "metadata": {
        "id": "7T2k9F60jqW2"
      },
      "source": [
        "## 3.0. Indices"
      ]
    },
    {
      "cell_type": "code",
      "execution_count": 19,
      "metadata": {
        "id": "mSjIKuzvmc3y"
      },
      "outputs": [],
      "source": [
        "# Define the tickers\n",
        "indices_tickers = [\n",
        "    \"^GSPC\",   # S&P 500\n",
        "    \"^FTSE\",   # FTSE 100\n",
        "    \"^FCHI\",   # CAC 40\n",
        "    \"^GDAXI\",  # DAX Index (Germany)\n",
        "    \"^J203.JO\" # JSE All Share Index (South Africa)\n",
        "]"
      ]
    },
    {
      "cell_type": "markdown",
      "metadata": {
        "id": "xn9fShh1u8_I"
      },
      "source": [
        "### to Merge"
      ]
    },
    {
      "cell_type": "code",
      "execution_count": 19,
      "metadata": {
        "id": "XsX3nBIMMsw6"
      },
      "outputs": [],
      "source": []
    },
    {
      "cell_type": "code",
      "execution_count": 20,
      "metadata": {
        "colab": {
          "base_uri": "https://localhost:8080/"
        },
        "id": "-X4U_gDZu78M",
        "outputId": "6841bb02-13fa-490f-fe8e-384f2d1682dd"
      },
      "outputs": [
        {
          "output_type": "stream",
          "name": "stderr",
          "text": [
            "[*********************100%%**********************]  1 of 1 completed\n",
            "[*********************100%%**********************]  1 of 1 completed\n",
            "[*********************100%%**********************]  1 of 1 completed\n",
            "[*********************100%%**********************]  1 of 1 completed\n",
            "[*********************100%%**********************]  1 of 1 completed\n"
          ]
        }
      ],
      "source": [
        "indices_growth_data = download_and_process_data(indices_tickers)\n",
        "indices_growth_data_var = assign_growth_data_to_variables(indices_growth_data)\n",
        "indices_growth_data_toMerge = merge_dataframes(indices_growth_data_var, on='Date')\n",
        "# indices_growth_data_toMerge = merge_dataframes(indices_growth_data_var)\n"
      ]
    },
    {
      "cell_type": "code",
      "execution_count": 20,
      "metadata": {
        "id": "g-h0wf99EQvu"
      },
      "outputs": [],
      "source": []
    },
    {
      "cell_type": "markdown",
      "metadata": {
        "id": "I2hwC_8jjqSM"
      },
      "source": [
        "## 4.0. Macro indicators"
      ]
    },
    {
      "cell_type": "code",
      "execution_count": 21,
      "metadata": {
        "id": "V4kvYjq7vGYl"
      },
      "outputs": [],
      "source": [
        "macro_indicators = {\n",
        "    \"GDP\": {\n",
        "        \"SPDR S&P 500 ETF Trust\": \"SPY\",\n",
        "        \"iShares MSCI ACWI ETF\": \"ACWI\"\n",
        "    },\n",
        "    \"Employment Data\": {\n",
        "        \"SPDR S&P 500 ETF Trust\": \"SPY\"\n",
        "    },\n",
        "    \"Inflation Data\": {\n",
        "        \"iShares TIPS Bond ETF\": \"TIP\",\n",
        "        \"Schwab U.S. TIPS ETF\": \"SCHP\"\n",
        "    },\n",
        "    \"Interest Rates\": {\n",
        "        \"iShares 20+ Year Treasury Bond ETF\": \"TLT\",\n",
        "        \"Vanguard Short-Term Treasury ETF\": \"VGSH\"\n",
        "    }\n",
        "\n",
        "}\n"
      ]
    },
    {
      "cell_type": "markdown",
      "metadata": {
        "id": "jDAQvNvivltE"
      },
      "source": [
        "### to Merge"
      ]
    },
    {
      "cell_type": "code",
      "execution_count": 22,
      "metadata": {
        "colab": {
          "base_uri": "https://localhost:8080/"
        },
        "id": "J1SDGEGSvkBd",
        "outputId": "36fff0f0-37b0-47ab-8bd9-dd6c05a79907"
      },
      "outputs": [
        {
          "output_type": "stream",
          "name": "stderr",
          "text": [
            "[*********************100%%**********************]  1 of 1 completed\n",
            "[*********************100%%**********************]  1 of 1 completed\n",
            "[*********************100%%**********************]  1 of 1 completed\n",
            "[*********************100%%**********************]  1 of 1 completed\n",
            "[*********************100%%**********************]  1 of 1 completed\n",
            "[*********************100%%**********************]  1 of 1 completed\n",
            "[*********************100%%**********************]  1 of 1 completed\n"
          ]
        }
      ],
      "source": [
        "macro_indicators_tickers = [ticker for sublist in macro_indicators.values() for ticker in sublist.values()]\n",
        "\n",
        "macro_growth_data = download_and_process_data(macro_indicators_tickers)\n",
        "macro_growth_data_var = assign_growth_data_to_variables(macro_growth_data)\n",
        "macro_growth_data_toMerge = merge_dataframes(macro_growth_data_var, on='Date')\n"
      ]
    },
    {
      "cell_type": "code",
      "execution_count": 23,
      "metadata": {
        "colab": {
          "base_uri": "https://localhost:8080/"
        },
        "id": "BUuW38wBFvjQ",
        "outputId": "9c6ad19b-102a-478a-c402-4f8fc7783509"
      },
      "outputs": [
        {
          "output_type": "execute_result",
          "data": {
            "text/plain": [
              "Index(['Date', 'growth_SPY_1d', 'growth_SPY_3d', 'growth_SPY_7d',\n",
              "       'growth_SPY_30d', 'growth_SPY_90d', 'growth_SPY_365d', 'growth_ACWI_1d',\n",
              "       'growth_ACWI_3d', 'growth_ACWI_7d', 'growth_ACWI_30d',\n",
              "       'growth_ACWI_90d', 'growth_ACWI_365d', 'growth_TIP_1d', 'growth_TIP_3d',\n",
              "       'growth_TIP_7d', 'growth_TIP_30d', 'growth_TIP_90d', 'growth_TIP_365d',\n",
              "       'growth_SCHP_1d', 'growth_SCHP_3d', 'growth_SCHP_7d', 'growth_SCHP_30d',\n",
              "       'growth_SCHP_90d', 'growth_SCHP_365d', 'growth_TLT_1d', 'growth_TLT_3d',\n",
              "       'growth_TLT_7d', 'growth_TLT_30d', 'growth_TLT_90d', 'growth_TLT_365d',\n",
              "       'growth_VGSH_1d', 'growth_VGSH_3d', 'growth_VGSH_7d', 'growth_VGSH_30d',\n",
              "       'growth_VGSH_90d', 'growth_VGSH_365d'],\n",
              "      dtype='object')"
            ]
          },
          "metadata": {},
          "execution_count": 23
        }
      ],
      "source": [
        "macro_growth_data_toMerge.keys()"
      ]
    },
    {
      "cell_type": "code",
      "execution_count": 24,
      "metadata": {
        "colab": {
          "base_uri": "https://localhost:8080/"
        },
        "id": "DKSKfU5pm5yh",
        "outputId": "ff1153aa-34f5-4ea1-fb8f-296f461a117e"
      },
      "outputs": [
        {
          "output_type": "stream",
          "name": "stdout",
          "text": [
            "Year = 2024; month= 8; day=12\n",
            "Period for indexes: 1954-08-12 to 2024-08-12 \n"
          ]
        }
      ],
      "source": [
        "end = date.today()\n",
        "print(f'Year = {end.year}; month= {end.month}; day={end.day}')\n",
        "\n",
        "start = date(year=end.year-70, month=end.month, day=end.day)\n",
        "print(f'Period for indexes: {start} to {end} ')\n"
      ]
    },
    {
      "cell_type": "code",
      "execution_count": 25,
      "metadata": {
        "id": "NZuG_6vPmLhN"
      },
      "outputs": [],
      "source": [
        "# Real Potential Gross Domestic Product (GDPPOT), Billions of Chained 2012 Dollars, QUARTERLY\n",
        "gdppot = pdr.DataReader(\"GDPPOT\", \"fred\", start=start)\n",
        "gdppot['gdppot_us_yoy'] = gdppot.GDPPOT/gdppot.GDPPOT.shift(4)-1\n",
        "gdppot['gdppot_us_qoq'] = gdppot.GDPPOT/gdppot.GDPPOT.shift(1)-1\n",
        "gdppot_to_merge = gdppot[['gdppot_us_yoy','gdppot_us_qoq']]\n",
        "\n",
        "# # \"Core CPI index\", MONTHLY\n",
        "cpilfesl = pdr.DataReader(\"CPILFESL\", \"fred\", start=start)\n",
        "cpilfesl['cpi_core_yoy'] = cpilfesl.CPILFESL/cpilfesl.CPILFESL.shift(12)-1\n",
        "cpilfesl['cpi_core_mom'] = cpilfesl.CPILFESL/cpilfesl.CPILFESL.shift(1)-1\n",
        "cpilfesl_to_merge = cpilfesl[['cpi_core_yoy','cpi_core_mom']]\n",
        "\n",
        "# Fed rate https://fred.stlouisfed.org/series/FEDFUNDS\n",
        "fedfunds = pdr.DataReader(\"FEDFUNDS\", \"fred\", start=start)\n",
        "\n",
        "# https://fred.stlouisfed.org/series/DGS1\n",
        "dgs1 = pdr.DataReader(\"DGS1\", \"fred\", start=start)\n",
        "dgs5 = pdr.DataReader(\"DGS5\", \"fred\", start=start)\n",
        "dgs10 = pdr.DataReader(\"DGS10\", \"fred\", start=start)\n",
        "\n",
        "\n",
        "\n"
      ]
    },
    {
      "cell_type": "markdown",
      "metadata": {
        "id": "J5a6iRYzjqMc"
      },
      "source": [
        "## 4.0. Volatility Indices\n"
      ]
    },
    {
      "cell_type": "code",
      "execution_count": 26,
      "metadata": {
        "id": "itSmPJsQwHXl"
      },
      "outputs": [],
      "source": [
        "\n",
        "\n",
        "volatility_indices = {\n",
        "    \"CBOE Volatility Indices\": {\n",
        "        \"CBOE Nasdaq-100 Volatility Index\": \"^VXN\",\n",
        "        \"Volatility Index\": \"^VIX\",\n",
        "    },\n",
        "    \"Other Volatility Indices\": {\n",
        "        \"CBOE 3-Month Volatility Index\": \"^VIX3M\",\n",
        "        \"CBOE 6-Month Volatility Index\": \"^VIX6M\"\n",
        "    }\n",
        "}\n",
        "\n"
      ]
    },
    {
      "cell_type": "markdown",
      "metadata": {
        "id": "4W1NrZ-OwUsm"
      },
      "source": [
        "### to Merge"
      ]
    },
    {
      "cell_type": "markdown",
      "metadata": {
        "id": "WG-xmT5CwUrx"
      },
      "source": []
    },
    {
      "cell_type": "code",
      "execution_count": 27,
      "metadata": {
        "colab": {
          "base_uri": "https://localhost:8080/"
        },
        "id": "o3Fzz1HWwPIs",
        "outputId": "b66e3e2a-ab34-4831-ac47-9bb86a7a6a32"
      },
      "outputs": [
        {
          "output_type": "stream",
          "name": "stderr",
          "text": [
            "[*********************100%%**********************]  1 of 1 completed\n",
            "[*********************100%%**********************]  1 of 1 completed\n",
            "[*********************100%%**********************]  1 of 1 completed\n",
            "[*********************100%%**********************]  1 of 1 completed\n"
          ]
        }
      ],
      "source": [
        "volatility_indicators_tickers = [ticker for sublist in volatility_indices.values() for ticker in sublist.values()]\n",
        "\n",
        "volatility_growth_data = download_and_process_data(volatility_indicators_tickers)\n",
        "volatility_growth_data_var = assign_growth_data_to_variables(volatility_growth_data)\n",
        "volatility_growth_data_toMerge = merge_dataframes(volatility_growth_data_var, on='Date')\n"
      ]
    },
    {
      "cell_type": "markdown",
      "metadata": {
        "id": "vDHTax10jqFT"
      },
      "source": [
        "## 5.0. Metals, Energy & Crypto assets"
      ]
    },
    {
      "cell_type": "markdown",
      "metadata": {
        "id": "Qgaurdt0afX9"
      },
      "source": [
        "### 7.1. Metals"
      ]
    },
    {
      "cell_type": "code",
      "execution_count": 28,
      "metadata": {
        "id": "7pBn3uVWOdRR"
      },
      "outputs": [],
      "source": [
        "metal = {\n",
        "    \"Precious Metals\": {\n",
        "        \"Gold\": \"GC=F\",          # Gold Futures\n",
        "        \"Silver\": \"SI=F\",        # Silver Futures\n",
        "        \"Platinum\": \"PL=F\",      # Platinum Futures\n",
        "        \"Palladium\": \"PA=F\"      # Palladium Futures\n",
        "    }\n",
        "}"
      ]
    },
    {
      "cell_type": "code",
      "execution_count": 29,
      "metadata": {
        "colab": {
          "base_uri": "https://localhost:8080/"
        },
        "id": "zQM6ruXpbN4g",
        "outputId": "21445bb6-7b04-40ab-e75c-89ddb1f38ec5"
      },
      "outputs": [
        {
          "output_type": "stream",
          "name": "stderr",
          "text": [
            "[*********************100%%**********************]  1 of 1 completed\n",
            "[*********************100%%**********************]  1 of 1 completed\n",
            "[*********************100%%**********************]  1 of 1 completed\n",
            "[*********************100%%**********************]  1 of 1 completed\n"
          ]
        }
      ],
      "source": [
        "\n",
        "metal_tickers = [ticker for sublist in metal.values() for ticker in sublist.values()]\n",
        "\n",
        "metal_energy_growth_data = download_and_process_data(metal_tickers)\n",
        "metal_growth_data_var = assign_growth_data_to_variables(metal_energy_growth_data)\n",
        "metal_growth_data_toMerge = merge_dataframes(metal_growth_data_var, on='Date')\n"
      ]
    },
    {
      "cell_type": "code",
      "execution_count": 29,
      "metadata": {
        "id": "41TXgcTAbN3i"
      },
      "outputs": [],
      "source": []
    },
    {
      "cell_type": "markdown",
      "metadata": {
        "id": "9AhmKE-AakOx"
      },
      "source": [
        "### 7.2. Energy"
      ]
    },
    {
      "cell_type": "code",
      "execution_count": 30,
      "metadata": {
        "id": "hsdALdoQaxMV"
      },
      "outputs": [],
      "source": [
        "\n",
        "energy = {\n",
        "    \"Energy Commodities\": {\n",
        "        \"WTI Crude Oil\": \"CL=F\", # WTI Crude Oil Futures\n",
        "        \"Brent Oil\": \"BZ=F\",     # Brent Crude Oil Futures\n",
        "        \"Natural Gas\": \"NG=F\",   # Natural Gas Futures\n",
        "        \"Heating Oil\": \"HO=F\"    # Heating Oil Futures\n",
        "    }\n",
        "}\n"
      ]
    },
    {
      "cell_type": "code",
      "execution_count": 31,
      "metadata": {
        "colab": {
          "base_uri": "https://localhost:8080/"
        },
        "id": "O76j4VGTblgT",
        "outputId": "33040355-d9ac-44b4-a8ec-866370cf8baf"
      },
      "outputs": [
        {
          "output_type": "stream",
          "name": "stderr",
          "text": [
            "[*********************100%%**********************]  1 of 1 completed\n",
            "[*********************100%%**********************]  1 of 1 completed\n",
            "[*********************100%%**********************]  1 of 1 completed\n",
            "[*********************100%%**********************]  1 of 1 completed\n"
          ]
        }
      ],
      "source": [
        "\n",
        "energy_tickers = [ticker for sublist in energy.values() for ticker in sublist.values()]\n",
        "\n",
        "energy_growth_data = download_and_process_data(energy_tickers)\n",
        "energy_growth_data_var = assign_growth_data_to_variables(energy_growth_data)\n",
        "energy_growth_data_toMerge = merge_dataframes(energy_growth_data_var, on='Date')\n"
      ]
    },
    {
      "cell_type": "markdown",
      "metadata": {
        "id": "LazyS6o7apq3"
      },
      "source": [
        "### 7.3. Crypto"
      ]
    },
    {
      "cell_type": "code",
      "execution_count": 32,
      "metadata": {
        "id": "JGi5KMana_ZB"
      },
      "outputs": [],
      "source": [
        "\n",
        "crypto = {\n",
        "    \"Cryptocurrencies\": {\n",
        "        \"Bitcoin\": \"BTC-USD\",    # Bitcoin\n",
        "        \"Ethereum\": \"ETH-USD\",   # Ethereum\n",
        "        \"Litecoin\": \"LTC-USD\",   # Litecoin\n",
        "        \"Ripple\": \"XRP-USD\"      # Ripple\n",
        "    }\n",
        "}\n"
      ]
    },
    {
      "cell_type": "code",
      "execution_count": 33,
      "metadata": {
        "colab": {
          "base_uri": "https://localhost:8080/"
        },
        "id": "jsRVbR04a_YG",
        "outputId": "b4d38a43-3536-442f-aecd-1a39263a99c0"
      },
      "outputs": [
        {
          "output_type": "stream",
          "name": "stderr",
          "text": [
            "[*********************100%%**********************]  1 of 1 completed\n",
            "[*********************100%%**********************]  1 of 1 completed\n",
            "[*********************100%%**********************]  1 of 1 completed\n",
            "[*********************100%%**********************]  1 of 1 completed\n"
          ]
        }
      ],
      "source": [
        "\n",
        "crypto_tickers = [ticker for sublist in crypto.values() for ticker in sublist.values()]\n",
        "\n",
        "crypto_growth_data = download_and_process_data(crypto_tickers)\n",
        "crypto_growth_data_var = assign_growth_data_to_variables(crypto_growth_data)\n",
        "crypto_growth_data_toMerge = merge_dataframes(crypto_growth_data_var, on='Date')\n",
        "\n"
      ]
    },
    {
      "cell_type": "markdown",
      "metadata": {
        "id": "E_IgtSa8jp7K"
      },
      "source": [
        "## 6.0. ETFs"
      ]
    },
    {
      "cell_type": "code",
      "execution_count": 34,
      "metadata": {
        "id": "oJYlYp6G_owo"
      },
      "outputs": [],
      "source": [
        "# Define the ETF tickers\n",
        "etf_tickers = {\n",
        "    \"Market Indices ETFs\": {\n",
        "        \"SPDR S&P 500 ETF\": \"SPY\",\n",
        "        \"Invesco QQQ Trust\": \"QQQ\",\n",
        "        \"iShares Russell 2000 ETF\": \"IWM\",\n",
        "        \"Vanguard Total Stock Market ETF\": \"VTI\"\n",
        "    },\n",
        "    \"International ETFs\": {\n",
        "        \"iShares MSCI Emerging Markets ETF\": \"EEM\"\n",
        "    },\n",
        "    \"South African ETFs\": {\n",
        "        \"Satrix 40 ETF\": \"STX40.JO\",\n",
        "        \"Satrix RESI ETF\": \"STXRES.JO\",\n",
        "        \"Satrix FINI ETF\": \"STXFIN.JO\",\n",
        "        \"Satrix INDI ETF\": \"STXIND.JO\",\n",
        "    }\n",
        "}\n",
        "\n"
      ]
    },
    {
      "cell_type": "markdown",
      "metadata": {
        "id": "v0sjFn-JSwwV"
      },
      "source": [
        "### Merge"
      ]
    },
    {
      "cell_type": "code",
      "execution_count": 35,
      "metadata": {
        "colab": {
          "base_uri": "https://localhost:8080/"
        },
        "id": "YCoBs7XoGie6",
        "outputId": "4628495a-36f5-41e1-a5bb-b6086da3ca5a"
      },
      "outputs": [
        {
          "output_type": "stream",
          "name": "stderr",
          "text": [
            "[*********************100%%**********************]  1 of 1 completed\n",
            "[*********************100%%**********************]  1 of 1 completed\n",
            "[*********************100%%**********************]  1 of 1 completed\n",
            "[*********************100%%**********************]  1 of 1 completed\n",
            "[*********************100%%**********************]  1 of 1 completed\n",
            "[*********************100%%**********************]  1 of 1 completed\n",
            "[*********************100%%**********************]  1 of 1 completed\n",
            "[*********************100%%**********************]  1 of 1 completed\n",
            "[*********************100%%**********************]  1 of 1 completed\n"
          ]
        }
      ],
      "source": [
        "\n",
        "ExtFormatter_tickers = [ticker for sublist in etf_tickers.values() for ticker in sublist.values()]\n",
        "\n",
        "etf_growth_data = download_and_process_data(ExtFormatter_tickers)\n",
        "etf_growth_data_var = assign_growth_data_to_variables(etf_growth_data)\n",
        "etf_growth_data_toMerge = merge_dataframes(etf_growth_data_var, on='Date')\n"
      ]
    },
    {
      "cell_type": "code",
      "execution_count": 35,
      "metadata": {
        "id": "EyAIY-l1w8-F"
      },
      "outputs": [],
      "source": []
    },
    {
      "cell_type": "markdown",
      "metadata": {
        "id": "DrcRzRhNlZev"
      },
      "source": [
        "### 7.0. Currencies"
      ]
    },
    {
      "cell_type": "code",
      "execution_count": 35,
      "metadata": {
        "id": "r0ujyrvGxfA8"
      },
      "outputs": [],
      "source": []
    },
    {
      "cell_type": "markdown",
      "metadata": {
        "id": "Px-1JEqNtblP"
      },
      "source": [
        "#### Forex Currency Pairs (Daily Data)"
      ]
    },
    {
      "cell_type": "code",
      "execution_count": 36,
      "metadata": {
        "id": "gUswDbldsIkr"
      },
      "outputs": [],
      "source": [
        "# forex_currency_pairs_daily = {\n",
        "#     'Euro vs US Dollar': 'EURUSD=X',\n",
        "#     'US Dollar vs Japanese Yen': 'JPY=X',\n",
        "#     'British Pound vs US Dollar': 'GBPUSD=X',\n",
        "#     'US Dollar vs Swiss Franc': 'CHF=X',\n",
        "#     'Australian Dollar vs US Dollar': 'AUDUSD=X',\n",
        "#     'US Dollar vs Canadian Dollar': 'CAD=X',\n",
        "#     'New Zealand Dollar vs US Dollar': 'NZDUSD=X',\n",
        "#     'Euro vs British Pound': 'EURGBP=X',\n",
        "#     'Euro vs Japanese Yen': 'EURJPY=X',\n",
        "#     'British Pound vs Japanese Yen': 'GBPJPY=X',\n",
        "#     'Australian Dollar vs Japanese Yen': 'AUDJPY=X',\n",
        "# }\n",
        "\n",
        "\n",
        "# african_currency_pairs_daily = {\n",
        "#     'US Dollar vs South African Rand': 'USDZAR=X',\n",
        "#     'Euro vs South African Rand': 'EURZAR=X',\n",
        "#     'British Pound vs South African Rand': 'GBPZAR=X',\n",
        "#     'US Dollar vs Nigerian Naira': 'USDNGN=X',\n",
        "#     'US Dollar vs Kenyan Shilling': 'USDKES=X',\n",
        "#     'US Dollar vs Ghanaian Cedi': 'USDGHS=X',\n",
        "#     'US Dollar vs Egyptian Pound': 'USDEGP=X'\n",
        "# }\n",
        "\n"
      ]
    },
    {
      "cell_type": "code",
      "execution_count": 39,
      "metadata": {
        "id": "yeJiu2SVtlbu"
      },
      "outputs": [],
      "source": [
        "african_currency_pairs_daily = {\n",
        "    'US Dollar vs South African Rand': 'USDZAR=X',\n",
        "    'Euro vs South African Rand': 'EURZAR=X',\n",
        "    'British Pound vs South African Rand': 'GBPZAR=X',\n",
        "    'US Dollar vs Nigerian Naira': 'USDNGN=X',\n",
        "    'US Dollar vs Kenyan Shilling': 'USDKES=X',\n",
        "    'US Dollar vs Ghanaian Cedi': 'USDGHS=X',\n",
        "    'US Dollar vs Egyptian Pound': 'USDEGP=X'\n",
        "}\n",
        "usa_currency_pairs_daily = {\n",
        "    'US Dollar vs Euro': 'EURUSD=X',\n",
        "    'US Dollar vs Japanese Yen': 'USDJPY=X',\n",
        "    'US Dollar vs British Pound': 'GBPUSD=X',\n",
        "    'US Dollar vs Swiss Franc': 'USDCHF=X',\n",
        "    'US Dollar vs Canadian Dollar': 'USDCAD=X',\n",
        "    'US Dollar vs Australian Dollar': 'AUDUSD=X',\n",
        "    'US Dollar vs Chinese Yuan': 'USDCNY=X'\n",
        "}\n",
        "south_america_currency_pairs_daily = {\n",
        "    'US Dollar vs Brazilian Real': 'USDBRL=X',\n",
        "    'US Dollar vs Argentine Peso': 'USDARS=X',\n",
        "    'US Dollar vs Chilean Peso': 'USDCLP=X',\n",
        "    'US Dollar vs Colombian Peso': 'USDCOP=X',\n",
        "    'US Dollar vs Peruvian Sol': 'USDPEN=X',\n",
        "    # 'US Dollar vs Paraguayan Guarani': 'USDOPY=X',\n",
        "    'US Dollar vs Uruguayan Peso': 'USDUYU=X'\n",
        "}\n",
        "europe_currency_pairs_daily = {\n",
        "    'Euro vs British Pound': 'EURGBP=X',\n",
        "    'Euro vs Swiss Franc': 'EURCHF=X',\n",
        "    'Euro vs Japanese Yen': 'EURJPY=X',\n",
        "    'Euro vs Norwegian Krone': 'EURNOK=X',\n",
        "    'Euro vs Swedish Krona': 'EURSEK=X',\n",
        "    'Euro vs Danish Krone': 'EURDKK=X',\n",
        "    'British Pound vs Swiss Franc': 'GBPCHF=X'\n",
        "}\n",
        "asia_currency_pairs_daily = {\n",
        "    'US Dollar vs Japanese Yen': 'USDJPY=X',\n",
        "    'US Dollar vs Chinese Yuan': 'USDCNY=X',\n",
        "    'US Dollar vs Indian Rupee': 'USDINR=X',\n",
        "    'US Dollar vs South Korean Won': 'USDKRW=X',\n",
        "    'US Dollar vs Singapore Dollar': 'USDSGD=X',\n",
        "    'US Dollar vs Hong Kong Dollar': 'USDHKD=X',\n",
        "    'US Dollar vs Thai Baht': 'USDTHB=X'\n",
        "}\n"
      ]
    },
    {
      "cell_type": "code",
      "execution_count": 40,
      "metadata": {
        "colab": {
          "base_uri": "https://localhost:8080/"
        },
        "id": "G3PyzB-ZAeTs",
        "outputId": "237ce53c-3469-44e4-9602-b5f5af9f548a"
      },
      "outputs": [
        {
          "output_type": "stream",
          "name": "stderr",
          "text": [
            "\r[*********************100%%**********************]  1 of 1 completed"
          ]
        },
        {
          "output_type": "stream",
          "name": "stdout",
          "text": [
            "0 USDZAR=X\n"
          ]
        },
        {
          "output_type": "stream",
          "name": "stderr",
          "text": [
            "\n",
            "[*********************100%%**********************]  1 of 1 completed"
          ]
        },
        {
          "output_type": "stream",
          "name": "stdout",
          "text": [
            "1 EURZAR=X\n"
          ]
        },
        {
          "output_type": "stream",
          "name": "stderr",
          "text": [
            "\n",
            "[*********************100%%**********************]  1 of 1 completed"
          ]
        },
        {
          "output_type": "stream",
          "name": "stdout",
          "text": [
            "2 GBPZAR=X\n"
          ]
        },
        {
          "output_type": "stream",
          "name": "stderr",
          "text": [
            "\n",
            "[*********************100%%**********************]  1 of 1 completed"
          ]
        },
        {
          "output_type": "stream",
          "name": "stdout",
          "text": [
            "3 USDNGN=X\n"
          ]
        },
        {
          "output_type": "stream",
          "name": "stderr",
          "text": [
            "\n",
            "[*********************100%%**********************]  1 of 1 completed"
          ]
        },
        {
          "output_type": "stream",
          "name": "stdout",
          "text": [
            "4 USDKES=X\n"
          ]
        },
        {
          "output_type": "stream",
          "name": "stderr",
          "text": [
            "\n",
            "[*********************100%%**********************]  1 of 1 completed"
          ]
        },
        {
          "output_type": "stream",
          "name": "stdout",
          "text": [
            "5 USDGHS=X\n"
          ]
        },
        {
          "output_type": "stream",
          "name": "stderr",
          "text": [
            "\n",
            "[*********************100%%**********************]  1 of 1 completed"
          ]
        },
        {
          "output_type": "stream",
          "name": "stdout",
          "text": [
            "6 USDEGP=X\n"
          ]
        },
        {
          "output_type": "stream",
          "name": "stderr",
          "text": [
            "\n"
          ]
        },
        {
          "output_type": "stream",
          "name": "stdout",
          "text": [
            "7 EURUSD=X\n"
          ]
        },
        {
          "output_type": "stream",
          "name": "stderr",
          "text": [
            "[*********************100%%**********************]  1 of 1 completed\n",
            "[*********************100%%**********************]  1 of 1 completed"
          ]
        },
        {
          "output_type": "stream",
          "name": "stdout",
          "text": [
            "8 USDJPY=X\n"
          ]
        },
        {
          "output_type": "stream",
          "name": "stderr",
          "text": [
            "\n",
            "[*********************100%%**********************]  1 of 1 completed"
          ]
        },
        {
          "output_type": "stream",
          "name": "stdout",
          "text": [
            "9 GBPUSD=X\n"
          ]
        },
        {
          "output_type": "stream",
          "name": "stderr",
          "text": [
            "\n"
          ]
        },
        {
          "output_type": "stream",
          "name": "stdout",
          "text": [
            "10 USDCHF=X\n"
          ]
        },
        {
          "output_type": "stream",
          "name": "stderr",
          "text": [
            "[*********************100%%**********************]  1 of 1 completed\n",
            "[*********************100%%**********************]  1 of 1 completed"
          ]
        },
        {
          "output_type": "stream",
          "name": "stdout",
          "text": [
            "11 USDCAD=X\n"
          ]
        },
        {
          "output_type": "stream",
          "name": "stderr",
          "text": [
            "\n",
            "[*********************100%%**********************]  1 of 1 completed"
          ]
        },
        {
          "output_type": "stream",
          "name": "stdout",
          "text": [
            "12 AUDUSD=X\n"
          ]
        },
        {
          "output_type": "stream",
          "name": "stderr",
          "text": [
            "\n",
            "[*********************100%%**********************]  1 of 1 completed"
          ]
        },
        {
          "output_type": "stream",
          "name": "stdout",
          "text": [
            "13 USDCNY=X\n"
          ]
        },
        {
          "output_type": "stream",
          "name": "stderr",
          "text": [
            "\n",
            "[*********************100%%**********************]  1 of 1 completed"
          ]
        },
        {
          "output_type": "stream",
          "name": "stdout",
          "text": [
            "14 USDBRL=X\n"
          ]
        },
        {
          "output_type": "stream",
          "name": "stderr",
          "text": [
            "\n"
          ]
        },
        {
          "output_type": "stream",
          "name": "stdout",
          "text": [
            "15 USDARS=X\n"
          ]
        },
        {
          "output_type": "stream",
          "name": "stderr",
          "text": [
            "[*********************100%%**********************]  1 of 1 completed\n",
            "[*********************100%%**********************]  1 of 1 completed"
          ]
        },
        {
          "output_type": "stream",
          "name": "stdout",
          "text": [
            "16 USDCLP=X\n"
          ]
        },
        {
          "output_type": "stream",
          "name": "stderr",
          "text": [
            "\n",
            "[*********************100%%**********************]  1 of 1 completed"
          ]
        },
        {
          "output_type": "stream",
          "name": "stdout",
          "text": [
            "17 USDCOP=X\n"
          ]
        },
        {
          "output_type": "stream",
          "name": "stderr",
          "text": [
            "\n",
            "[*********************100%%**********************]  1 of 1 completed"
          ]
        },
        {
          "output_type": "stream",
          "name": "stdout",
          "text": [
            "18 USDPEN=X\n"
          ]
        },
        {
          "output_type": "stream",
          "name": "stderr",
          "text": [
            "\n"
          ]
        },
        {
          "output_type": "stream",
          "name": "stdout",
          "text": [
            "19 USDUYU=X\n"
          ]
        },
        {
          "output_type": "stream",
          "name": "stderr",
          "text": [
            "\r[*********************100%%**********************]  1 of 1 completed\n"
          ]
        },
        {
          "output_type": "stream",
          "name": "stdout",
          "text": [
            "20 EURGBP=X\n"
          ]
        },
        {
          "output_type": "stream",
          "name": "stderr",
          "text": [
            "\r[*********************100%%**********************]  1 of 1 completed\n"
          ]
        },
        {
          "output_type": "stream",
          "name": "stdout",
          "text": [
            "21 EURCHF=X\n"
          ]
        },
        {
          "output_type": "stream",
          "name": "stderr",
          "text": [
            "\r[*********************100%%**********************]  1 of 1 completed\n"
          ]
        },
        {
          "output_type": "stream",
          "name": "stdout",
          "text": [
            "22 EURJPY=X\n"
          ]
        },
        {
          "output_type": "stream",
          "name": "stderr",
          "text": [
            "\r[*********************100%%**********************]  1 of 1 completed\n"
          ]
        },
        {
          "output_type": "stream",
          "name": "stdout",
          "text": [
            "23 EURNOK=X\n"
          ]
        },
        {
          "output_type": "stream",
          "name": "stderr",
          "text": [
            "\r[*********************100%%**********************]  1 of 1 completed\n"
          ]
        },
        {
          "output_type": "stream",
          "name": "stdout",
          "text": [
            "24 EURSEK=X\n"
          ]
        },
        {
          "output_type": "stream",
          "name": "stderr",
          "text": [
            "\r[*********************100%%**********************]  1 of 1 completed\n"
          ]
        },
        {
          "output_type": "stream",
          "name": "stdout",
          "text": [
            "25 EURDKK=X\n"
          ]
        },
        {
          "output_type": "stream",
          "name": "stderr",
          "text": [
            "\r[*********************100%%**********************]  1 of 1 completed\n"
          ]
        },
        {
          "output_type": "stream",
          "name": "stdout",
          "text": [
            "26 GBPCHF=X\n"
          ]
        },
        {
          "output_type": "stream",
          "name": "stderr",
          "text": [
            "\r[*********************100%%**********************]  1 of 1 completed\n"
          ]
        },
        {
          "output_type": "stream",
          "name": "stdout",
          "text": [
            "27 USDINR=X\n"
          ]
        },
        {
          "output_type": "stream",
          "name": "stderr",
          "text": [
            "\r[*********************100%%**********************]  1 of 1 completed\n"
          ]
        },
        {
          "output_type": "stream",
          "name": "stdout",
          "text": [
            "28 USDKRW=X\n"
          ]
        },
        {
          "output_type": "stream",
          "name": "stderr",
          "text": [
            "\r[*********************100%%**********************]  1 of 1 completed\n"
          ]
        },
        {
          "output_type": "stream",
          "name": "stdout",
          "text": [
            "29 USDSGD=X\n"
          ]
        },
        {
          "output_type": "stream",
          "name": "stderr",
          "text": [
            "\r[*********************100%%**********************]  1 of 1 completed\n"
          ]
        },
        {
          "output_type": "stream",
          "name": "stdout",
          "text": [
            "30 USDHKD=X\n"
          ]
        },
        {
          "output_type": "stream",
          "name": "stderr",
          "text": [
            "\r[*********************100%%**********************]  1 of 1 completed\n"
          ]
        },
        {
          "output_type": "stream",
          "name": "stdout",
          "text": [
            "31 USDTHB=X\n"
          ]
        },
        {
          "output_type": "stream",
          "name": "stderr",
          "text": [
            "\r[*********************100%%**********************]  1 of 1 completed\n"
          ]
        }
      ],
      "source": [
        "def combine_tickers(*dicts):\n",
        "    combined_dict = {}\n",
        "    for d in dicts:\n",
        "        combined_dict.update(d)\n",
        "    return list(combined_dict.values())\n",
        "\n",
        "# Define the dictionaries (assuming they are already defined as south_africa_tickers, usa_tickers, eu_tickers, india_tickers, china_tickers)\n",
        "\n",
        "# ALL_TICKERS = combine_tickers(forex_currency_pairs_daily, african_currency_pairs_daily)\n",
        "# currency_df = process_all_tickers(ALL_TICKERS)\n",
        "\n",
        "\n",
        "ALL_TICKERS = combine_tickers(\n",
        "    african_currency_pairs_daily,\n",
        "    usa_currency_pairs_daily,\n",
        "    south_america_currency_pairs_daily,\n",
        "    europe_currency_pairs_daily,\n",
        "    asia_currency_pairs_daily\n",
        "    )\n",
        "currency_df = process_all_tickers(ALL_TICKERS)\n"
      ]
    },
    {
      "cell_type": "code",
      "execution_count": 41,
      "metadata": {
        "colab": {
          "base_uri": "https://localhost:8080/"
        },
        "id": "Bi2UpUKZQVz8",
        "outputId": "12931518-57dc-48e9-e349-88a2f59d5042"
      },
      "outputs": [
        {
          "output_type": "execute_result",
          "data": {
            "text/plain": [
              "['USDZAR=X',\n",
              " 'EURZAR=X',\n",
              " 'GBPZAR=X',\n",
              " 'USDNGN=X',\n",
              " 'USDKES=X',\n",
              " 'USDGHS=X',\n",
              " 'USDEGP=X',\n",
              " 'EURUSD=X',\n",
              " 'USDJPY=X',\n",
              " 'GBPUSD=X',\n",
              " 'USDCHF=X',\n",
              " 'USDCAD=X',\n",
              " 'AUDUSD=X',\n",
              " 'USDCNY=X',\n",
              " 'USDBRL=X',\n",
              " 'USDARS=X',\n",
              " 'USDCLP=X',\n",
              " 'USDCOP=X',\n",
              " 'USDPEN=X',\n",
              " 'USDUYU=X',\n",
              " 'EURGBP=X',\n",
              " 'EURCHF=X',\n",
              " 'EURJPY=X',\n",
              " 'EURNOK=X',\n",
              " 'EURSEK=X',\n",
              " 'EURDKK=X',\n",
              " 'GBPCHF=X',\n",
              " 'USDINR=X',\n",
              " 'USDKRW=X',\n",
              " 'USDSGD=X',\n",
              " 'USDHKD=X',\n",
              " 'USDTHB=X']"
            ]
          },
          "metadata": {},
          "execution_count": 41
        }
      ],
      "source": [
        "ALL_TICKERS"
      ]
    },
    {
      "cell_type": "code",
      "execution_count": 42,
      "metadata": {
        "colab": {
          "base_uri": "https://localhost:8080/"
        },
        "id": "XcBX_rWuPe9G",
        "outputId": "b982a8de-697e-462d-fde5-036ce68c3a2e"
      },
      "outputs": [
        {
          "output_type": "stream",
          "name": "stdout",
          "text": [
            "<class 'pandas.core.frame.DataFrame'>\n",
            "RangeIndex: 179061 entries, 0 to 179060\n",
            "Data columns (total 24 columns):\n",
            " #   Column                        Non-Null Count   Dtype  \n",
            "---  ------                        --------------   -----  \n",
            " 0   Open                          179061 non-null  float64\n",
            " 1   High                          179061 non-null  float64\n",
            " 2   Low                           179061 non-null  float64\n",
            " 3   Close                         179061 non-null  float64\n",
            " 4   Adj Close                     179061 non-null  float64\n",
            " 5   Volume                        179061 non-null  int64  \n",
            " 6   Ticker                        179061 non-null  object \n",
            " 7   Year                          179061 non-null  int32  \n",
            " 8   Month                         179061 non-null  int32  \n",
            " 9   Weekday                       179061 non-null  int32  \n",
            " 10  Date                          179061 non-null  object \n",
            " 11  growth_1d                     179029 non-null  float64\n",
            " 12  growth_3d                     178965 non-null  float64\n",
            " 13  growth_7d                     178837 non-null  float64\n",
            " 14  growth_30d                    178101 non-null  float64\n",
            " 15  growth_90d                    176181 non-null  float64\n",
            " 16  growth_365d                   167381 non-null  float64\n",
            " 17  growth_future_5d              178901 non-null  float64\n",
            " 18  SMA10                         178773 non-null  float64\n",
            " 19  SMA20                         178453 non-null  float64\n",
            " 20  growing_moving_average        179061 non-null  int64  \n",
            " 21  high_minus_low_relative       179061 non-null  float64\n",
            " 22  volatility                    178133 non-null  float64\n",
            " 23  is_positive_growth_5d_future  179061 non-null  int64  \n",
            "dtypes: float64(16), int32(3), int64(3), object(2)\n",
            "memory usage: 30.7+ MB\n"
          ]
        }
      ],
      "source": [
        "currency_df.info()"
      ]
    },
    {
      "cell_type": "code",
      "execution_count": 43,
      "metadata": {
        "colab": {
          "base_uri": "https://localhost:8080/",
          "height": 273
        },
        "id": "x1QbRr31SG41",
        "outputId": "96a88b33-9b4f-4799-e758-38f080561172"
      },
      "outputs": [
        {
          "output_type": "execute_result",
          "data": {
            "text/plain": [
              "             Open       High        Low      Close  Adj Close  Volume  \\\n",
              "179056  35.500000  35.590000  35.349998  35.500000  35.500000       0   \n",
              "179057  35.393002  35.709999  35.402000  35.393002  35.393002       0   \n",
              "179058  35.580002  35.592999  35.196999  35.580002  35.580002       0   \n",
              "179059  35.259998  35.299999  35.147999  35.259998  35.259998       0   \n",
              "179060  35.180000  35.271999  35.150002  35.220001  35.220001       0   \n",
              "\n",
              "          Ticker  Year  Month  Weekday  ... growth_30d  growth_90d  \\\n",
              "179056  USDTHB=X  2024      8        1  ...   0.965724    0.975194   \n",
              "179057  USDTHB=X  2024      8        2  ...   0.967075    0.967286   \n",
              "179058  USDTHB=X  2024      8        3  ...   0.968691    0.972876   \n",
              "179059  USDTHB=X  2024      8        4  ...   0.954702    0.963862   \n",
              "179060  USDTHB=X  2024      8        0  ...   0.956545    0.960249   \n",
              "\n",
              "        growth_365d  growth_future_5d      SMA10     SMA20  \\\n",
              "179056     1.026457               NaN  35.803900  35.98255   \n",
              "179057     1.025290               NaN  35.729200  35.93170   \n",
              "179058     1.030050               NaN  35.677401  35.89470   \n",
              "179059     1.020255               NaN  35.582401  35.85625   \n",
              "179060     1.022945               NaN  35.507401  35.80825   \n",
              "\n",
              "        growing_moving_average  high_minus_low_relative  volatility  \\\n",
              "179056                       0                 0.006761    6.783520   \n",
              "179057                       0                 0.008702    7.084752   \n",
              "179058                       0                 0.011130    7.085785   \n",
              "179059                       0                 0.004311    7.110741   \n",
              "179060                       0                 0.003464    7.177170   \n",
              "\n",
              "        is_positive_growth_5d_future  \n",
              "179056                             0  \n",
              "179057                             0  \n",
              "179058                             0  \n",
              "179059                             0  \n",
              "179060                             0  \n",
              "\n",
              "[5 rows x 24 columns]"
            ],
            "text/html": [
              "\n",
              "  <div id=\"df-82d4a36b-e680-409e-8b77-9cdf61e5b8c7\" class=\"colab-df-container\">\n",
              "    <div>\n",
              "<style scoped>\n",
              "    .dataframe tbody tr th:only-of-type {\n",
              "        vertical-align: middle;\n",
              "    }\n",
              "\n",
              "    .dataframe tbody tr th {\n",
              "        vertical-align: top;\n",
              "    }\n",
              "\n",
              "    .dataframe thead th {\n",
              "        text-align: right;\n",
              "    }\n",
              "</style>\n",
              "<table border=\"1\" class=\"dataframe\">\n",
              "  <thead>\n",
              "    <tr style=\"text-align: right;\">\n",
              "      <th></th>\n",
              "      <th>Open</th>\n",
              "      <th>High</th>\n",
              "      <th>Low</th>\n",
              "      <th>Close</th>\n",
              "      <th>Adj Close</th>\n",
              "      <th>Volume</th>\n",
              "      <th>Ticker</th>\n",
              "      <th>Year</th>\n",
              "      <th>Month</th>\n",
              "      <th>Weekday</th>\n",
              "      <th>...</th>\n",
              "      <th>growth_30d</th>\n",
              "      <th>growth_90d</th>\n",
              "      <th>growth_365d</th>\n",
              "      <th>growth_future_5d</th>\n",
              "      <th>SMA10</th>\n",
              "      <th>SMA20</th>\n",
              "      <th>growing_moving_average</th>\n",
              "      <th>high_minus_low_relative</th>\n",
              "      <th>volatility</th>\n",
              "      <th>is_positive_growth_5d_future</th>\n",
              "    </tr>\n",
              "  </thead>\n",
              "  <tbody>\n",
              "    <tr>\n",
              "      <th>179056</th>\n",
              "      <td>35.500000</td>\n",
              "      <td>35.590000</td>\n",
              "      <td>35.349998</td>\n",
              "      <td>35.500000</td>\n",
              "      <td>35.500000</td>\n",
              "      <td>0</td>\n",
              "      <td>USDTHB=X</td>\n",
              "      <td>2024</td>\n",
              "      <td>8</td>\n",
              "      <td>1</td>\n",
              "      <td>...</td>\n",
              "      <td>0.965724</td>\n",
              "      <td>0.975194</td>\n",
              "      <td>1.026457</td>\n",
              "      <td>NaN</td>\n",
              "      <td>35.803900</td>\n",
              "      <td>35.98255</td>\n",
              "      <td>0</td>\n",
              "      <td>0.006761</td>\n",
              "      <td>6.783520</td>\n",
              "      <td>0</td>\n",
              "    </tr>\n",
              "    <tr>\n",
              "      <th>179057</th>\n",
              "      <td>35.393002</td>\n",
              "      <td>35.709999</td>\n",
              "      <td>35.402000</td>\n",
              "      <td>35.393002</td>\n",
              "      <td>35.393002</td>\n",
              "      <td>0</td>\n",
              "      <td>USDTHB=X</td>\n",
              "      <td>2024</td>\n",
              "      <td>8</td>\n",
              "      <td>2</td>\n",
              "      <td>...</td>\n",
              "      <td>0.967075</td>\n",
              "      <td>0.967286</td>\n",
              "      <td>1.025290</td>\n",
              "      <td>NaN</td>\n",
              "      <td>35.729200</td>\n",
              "      <td>35.93170</td>\n",
              "      <td>0</td>\n",
              "      <td>0.008702</td>\n",
              "      <td>7.084752</td>\n",
              "      <td>0</td>\n",
              "    </tr>\n",
              "    <tr>\n",
              "      <th>179058</th>\n",
              "      <td>35.580002</td>\n",
              "      <td>35.592999</td>\n",
              "      <td>35.196999</td>\n",
              "      <td>35.580002</td>\n",
              "      <td>35.580002</td>\n",
              "      <td>0</td>\n",
              "      <td>USDTHB=X</td>\n",
              "      <td>2024</td>\n",
              "      <td>8</td>\n",
              "      <td>3</td>\n",
              "      <td>...</td>\n",
              "      <td>0.968691</td>\n",
              "      <td>0.972876</td>\n",
              "      <td>1.030050</td>\n",
              "      <td>NaN</td>\n",
              "      <td>35.677401</td>\n",
              "      <td>35.89470</td>\n",
              "      <td>0</td>\n",
              "      <td>0.011130</td>\n",
              "      <td>7.085785</td>\n",
              "      <td>0</td>\n",
              "    </tr>\n",
              "    <tr>\n",
              "      <th>179059</th>\n",
              "      <td>35.259998</td>\n",
              "      <td>35.299999</td>\n",
              "      <td>35.147999</td>\n",
              "      <td>35.259998</td>\n",
              "      <td>35.259998</td>\n",
              "      <td>0</td>\n",
              "      <td>USDTHB=X</td>\n",
              "      <td>2024</td>\n",
              "      <td>8</td>\n",
              "      <td>4</td>\n",
              "      <td>...</td>\n",
              "      <td>0.954702</td>\n",
              "      <td>0.963862</td>\n",
              "      <td>1.020255</td>\n",
              "      <td>NaN</td>\n",
              "      <td>35.582401</td>\n",
              "      <td>35.85625</td>\n",
              "      <td>0</td>\n",
              "      <td>0.004311</td>\n",
              "      <td>7.110741</td>\n",
              "      <td>0</td>\n",
              "    </tr>\n",
              "    <tr>\n",
              "      <th>179060</th>\n",
              "      <td>35.180000</td>\n",
              "      <td>35.271999</td>\n",
              "      <td>35.150002</td>\n",
              "      <td>35.220001</td>\n",
              "      <td>35.220001</td>\n",
              "      <td>0</td>\n",
              "      <td>USDTHB=X</td>\n",
              "      <td>2024</td>\n",
              "      <td>8</td>\n",
              "      <td>0</td>\n",
              "      <td>...</td>\n",
              "      <td>0.956545</td>\n",
              "      <td>0.960249</td>\n",
              "      <td>1.022945</td>\n",
              "      <td>NaN</td>\n",
              "      <td>35.507401</td>\n",
              "      <td>35.80825</td>\n",
              "      <td>0</td>\n",
              "      <td>0.003464</td>\n",
              "      <td>7.177170</td>\n",
              "      <td>0</td>\n",
              "    </tr>\n",
              "  </tbody>\n",
              "</table>\n",
              "<p>5 rows × 24 columns</p>\n",
              "</div>\n",
              "    <div class=\"colab-df-buttons\">\n",
              "\n",
              "  <div class=\"colab-df-container\">\n",
              "    <button class=\"colab-df-convert\" onclick=\"convertToInteractive('df-82d4a36b-e680-409e-8b77-9cdf61e5b8c7')\"\n",
              "            title=\"Convert this dataframe to an interactive table.\"\n",
              "            style=\"display:none;\">\n",
              "\n",
              "  <svg xmlns=\"http://www.w3.org/2000/svg\" height=\"24px\" viewBox=\"0 -960 960 960\">\n",
              "    <path d=\"M120-120v-720h720v720H120Zm60-500h600v-160H180v160Zm220 220h160v-160H400v160Zm0 220h160v-160H400v160ZM180-400h160v-160H180v160Zm440 0h160v-160H620v160ZM180-180h160v-160H180v160Zm440 0h160v-160H620v160Z\"/>\n",
              "  </svg>\n",
              "    </button>\n",
              "\n",
              "  <style>\n",
              "    .colab-df-container {\n",
              "      display:flex;\n",
              "      gap: 12px;\n",
              "    }\n",
              "\n",
              "    .colab-df-convert {\n",
              "      background-color: #E8F0FE;\n",
              "      border: none;\n",
              "      border-radius: 50%;\n",
              "      cursor: pointer;\n",
              "      display: none;\n",
              "      fill: #1967D2;\n",
              "      height: 32px;\n",
              "      padding: 0 0 0 0;\n",
              "      width: 32px;\n",
              "    }\n",
              "\n",
              "    .colab-df-convert:hover {\n",
              "      background-color: #E2EBFA;\n",
              "      box-shadow: 0px 1px 2px rgba(60, 64, 67, 0.3), 0px 1px 3px 1px rgba(60, 64, 67, 0.15);\n",
              "      fill: #174EA6;\n",
              "    }\n",
              "\n",
              "    .colab-df-buttons div {\n",
              "      margin-bottom: 4px;\n",
              "    }\n",
              "\n",
              "    [theme=dark] .colab-df-convert {\n",
              "      background-color: #3B4455;\n",
              "      fill: #D2E3FC;\n",
              "    }\n",
              "\n",
              "    [theme=dark] .colab-df-convert:hover {\n",
              "      background-color: #434B5C;\n",
              "      box-shadow: 0px 1px 3px 1px rgba(0, 0, 0, 0.15);\n",
              "      filter: drop-shadow(0px 1px 2px rgba(0, 0, 0, 0.3));\n",
              "      fill: #FFFFFF;\n",
              "    }\n",
              "  </style>\n",
              "\n",
              "    <script>\n",
              "      const buttonEl =\n",
              "        document.querySelector('#df-82d4a36b-e680-409e-8b77-9cdf61e5b8c7 button.colab-df-convert');\n",
              "      buttonEl.style.display =\n",
              "        google.colab.kernel.accessAllowed ? 'block' : 'none';\n",
              "\n",
              "      async function convertToInteractive(key) {\n",
              "        const element = document.querySelector('#df-82d4a36b-e680-409e-8b77-9cdf61e5b8c7');\n",
              "        const dataTable =\n",
              "          await google.colab.kernel.invokeFunction('convertToInteractive',\n",
              "                                                    [key], {});\n",
              "        if (!dataTable) return;\n",
              "\n",
              "        const docLinkHtml = 'Like what you see? Visit the ' +\n",
              "          '<a target=\"_blank\" href=https://colab.research.google.com/notebooks/data_table.ipynb>data table notebook</a>'\n",
              "          + ' to learn more about interactive tables.';\n",
              "        element.innerHTML = '';\n",
              "        dataTable['output_type'] = 'display_data';\n",
              "        await google.colab.output.renderOutput(dataTable, element);\n",
              "        const docLink = document.createElement('div');\n",
              "        docLink.innerHTML = docLinkHtml;\n",
              "        element.appendChild(docLink);\n",
              "      }\n",
              "    </script>\n",
              "  </div>\n",
              "\n",
              "\n",
              "<div id=\"df-9d42337d-2806-45fc-84b6-b24ff0d16b41\">\n",
              "  <button class=\"colab-df-quickchart\" onclick=\"quickchart('df-9d42337d-2806-45fc-84b6-b24ff0d16b41')\"\n",
              "            title=\"Suggest charts\"\n",
              "            style=\"display:none;\">\n",
              "\n",
              "<svg xmlns=\"http://www.w3.org/2000/svg\" height=\"24px\"viewBox=\"0 0 24 24\"\n",
              "     width=\"24px\">\n",
              "    <g>\n",
              "        <path d=\"M19 3H5c-1.1 0-2 .9-2 2v14c0 1.1.9 2 2 2h14c1.1 0 2-.9 2-2V5c0-1.1-.9-2-2-2zM9 17H7v-7h2v7zm4 0h-2V7h2v10zm4 0h-2v-4h2v4z\"/>\n",
              "    </g>\n",
              "</svg>\n",
              "  </button>\n",
              "\n",
              "<style>\n",
              "  .colab-df-quickchart {\n",
              "      --bg-color: #E8F0FE;\n",
              "      --fill-color: #1967D2;\n",
              "      --hover-bg-color: #E2EBFA;\n",
              "      --hover-fill-color: #174EA6;\n",
              "      --disabled-fill-color: #AAA;\n",
              "      --disabled-bg-color: #DDD;\n",
              "  }\n",
              "\n",
              "  [theme=dark] .colab-df-quickchart {\n",
              "      --bg-color: #3B4455;\n",
              "      --fill-color: #D2E3FC;\n",
              "      --hover-bg-color: #434B5C;\n",
              "      --hover-fill-color: #FFFFFF;\n",
              "      --disabled-bg-color: #3B4455;\n",
              "      --disabled-fill-color: #666;\n",
              "  }\n",
              "\n",
              "  .colab-df-quickchart {\n",
              "    background-color: var(--bg-color);\n",
              "    border: none;\n",
              "    border-radius: 50%;\n",
              "    cursor: pointer;\n",
              "    display: none;\n",
              "    fill: var(--fill-color);\n",
              "    height: 32px;\n",
              "    padding: 0;\n",
              "    width: 32px;\n",
              "  }\n",
              "\n",
              "  .colab-df-quickchart:hover {\n",
              "    background-color: var(--hover-bg-color);\n",
              "    box-shadow: 0 1px 2px rgba(60, 64, 67, 0.3), 0 1px 3px 1px rgba(60, 64, 67, 0.15);\n",
              "    fill: var(--button-hover-fill-color);\n",
              "  }\n",
              "\n",
              "  .colab-df-quickchart-complete:disabled,\n",
              "  .colab-df-quickchart-complete:disabled:hover {\n",
              "    background-color: var(--disabled-bg-color);\n",
              "    fill: var(--disabled-fill-color);\n",
              "    box-shadow: none;\n",
              "  }\n",
              "\n",
              "  .colab-df-spinner {\n",
              "    border: 2px solid var(--fill-color);\n",
              "    border-color: transparent;\n",
              "    border-bottom-color: var(--fill-color);\n",
              "    animation:\n",
              "      spin 1s steps(1) infinite;\n",
              "  }\n",
              "\n",
              "  @keyframes spin {\n",
              "    0% {\n",
              "      border-color: transparent;\n",
              "      border-bottom-color: var(--fill-color);\n",
              "      border-left-color: var(--fill-color);\n",
              "    }\n",
              "    20% {\n",
              "      border-color: transparent;\n",
              "      border-left-color: var(--fill-color);\n",
              "      border-top-color: var(--fill-color);\n",
              "    }\n",
              "    30% {\n",
              "      border-color: transparent;\n",
              "      border-left-color: var(--fill-color);\n",
              "      border-top-color: var(--fill-color);\n",
              "      border-right-color: var(--fill-color);\n",
              "    }\n",
              "    40% {\n",
              "      border-color: transparent;\n",
              "      border-right-color: var(--fill-color);\n",
              "      border-top-color: var(--fill-color);\n",
              "    }\n",
              "    60% {\n",
              "      border-color: transparent;\n",
              "      border-right-color: var(--fill-color);\n",
              "    }\n",
              "    80% {\n",
              "      border-color: transparent;\n",
              "      border-right-color: var(--fill-color);\n",
              "      border-bottom-color: var(--fill-color);\n",
              "    }\n",
              "    90% {\n",
              "      border-color: transparent;\n",
              "      border-bottom-color: var(--fill-color);\n",
              "    }\n",
              "  }\n",
              "</style>\n",
              "\n",
              "  <script>\n",
              "    async function quickchart(key) {\n",
              "      const quickchartButtonEl =\n",
              "        document.querySelector('#' + key + ' button');\n",
              "      quickchartButtonEl.disabled = true;  // To prevent multiple clicks.\n",
              "      quickchartButtonEl.classList.add('colab-df-spinner');\n",
              "      try {\n",
              "        const charts = await google.colab.kernel.invokeFunction(\n",
              "            'suggestCharts', [key], {});\n",
              "      } catch (error) {\n",
              "        console.error('Error during call to suggestCharts:', error);\n",
              "      }\n",
              "      quickchartButtonEl.classList.remove('colab-df-spinner');\n",
              "      quickchartButtonEl.classList.add('colab-df-quickchart-complete');\n",
              "    }\n",
              "    (() => {\n",
              "      let quickchartButtonEl =\n",
              "        document.querySelector('#df-9d42337d-2806-45fc-84b6-b24ff0d16b41 button');\n",
              "      quickchartButtonEl.style.display =\n",
              "        google.colab.kernel.accessAllowed ? 'block' : 'none';\n",
              "    })();\n",
              "  </script>\n",
              "</div>\n",
              "\n",
              "    </div>\n",
              "  </div>\n"
            ],
            "application/vnd.google.colaboratory.intrinsic+json": {
              "type": "dataframe"
            }
          },
          "metadata": {},
          "execution_count": 43
        }
      ],
      "source": [
        "currency_df.tail()"
      ]
    },
    {
      "cell_type": "code",
      "execution_count": 44,
      "metadata": {
        "id": "1GimfRJKSG3z"
      },
      "outputs": [],
      "source": [
        "# currency_df['ticker_type'] = currency_df.Ticker.apply(\n",
        "#     lambda x:get_ticker_type(\n",
        "#         x,\n",
        "#         list(forex_currency_pairs_daily.values()),\n",
        "#         list(african_currency_pairs_daily.values()),\n",
        "#         )\n",
        "#     )\n"
      ]
    },
    {
      "cell_type": "code",
      "source": [
        "currency_df['ticker_type'] = currency_df.Ticker.apply(\n",
        "    lambda x:get_ticker_type(\n",
        "        x,\n",
        "        list(african_currency_pairs_daily.values()),\n",
        "        list(usa_currency_pairs_daily.values()),\n",
        "        list(south_america_currency_pairs_daily.values()),\n",
        "        list(europe_currency_pairs_daily.values()),\n",
        "        list(asia_currency_pairs_daily.values()),\n",
        "        )\n",
        "    )\n"
      ],
      "metadata": {
        "id": "649t8Yj_C0ML"
      },
      "execution_count": 47,
      "outputs": []
    },
    {
      "cell_type": "code",
      "execution_count": 48,
      "metadata": {
        "colab": {
          "base_uri": "https://localhost:8080/",
          "height": 272
        },
        "id": "RXpEXOQvQDJD",
        "outputId": "e88a9864-0d5f-4325-ece8-85240f0e9441"
      },
      "outputs": [
        {
          "output_type": "execute_result",
          "data": {
            "text/plain": [
              "ticker_type\n",
              "europe           41682\n",
              "usa              39355\n",
              "africa           38116\n",
              "south_america    32589\n",
              "asia             27319\n",
              "Name: count, dtype: int64"
            ],
            "text/html": [
              "<div>\n",
              "<style scoped>\n",
              "    .dataframe tbody tr th:only-of-type {\n",
              "        vertical-align: middle;\n",
              "    }\n",
              "\n",
              "    .dataframe tbody tr th {\n",
              "        vertical-align: top;\n",
              "    }\n",
              "\n",
              "    .dataframe thead th {\n",
              "        text-align: right;\n",
              "    }\n",
              "</style>\n",
              "<table border=\"1\" class=\"dataframe\">\n",
              "  <thead>\n",
              "    <tr style=\"text-align: right;\">\n",
              "      <th></th>\n",
              "      <th>count</th>\n",
              "    </tr>\n",
              "    <tr>\n",
              "      <th>ticker_type</th>\n",
              "      <th></th>\n",
              "    </tr>\n",
              "  </thead>\n",
              "  <tbody>\n",
              "    <tr>\n",
              "      <th>europe</th>\n",
              "      <td>41682</td>\n",
              "    </tr>\n",
              "    <tr>\n",
              "      <th>usa</th>\n",
              "      <td>39355</td>\n",
              "    </tr>\n",
              "    <tr>\n",
              "      <th>africa</th>\n",
              "      <td>38116</td>\n",
              "    </tr>\n",
              "    <tr>\n",
              "      <th>south_america</th>\n",
              "      <td>32589</td>\n",
              "    </tr>\n",
              "    <tr>\n",
              "      <th>asia</th>\n",
              "      <td>27319</td>\n",
              "    </tr>\n",
              "  </tbody>\n",
              "</table>\n",
              "</div><br><label><b>dtype:</b> int64</label>"
            ]
          },
          "metadata": {},
          "execution_count": 48
        }
      ],
      "source": [
        "currency_df.ticker_type.value_counts()\n"
      ]
    },
    {
      "cell_type": "code",
      "execution_count": 49,
      "metadata": {
        "id": "NtnmxJMQEga6"
      },
      "outputs": [],
      "source": [
        "# Volume needs to be float, not int\n",
        "currency_df['Volume'] = currency_df['Volume']*1.0"
      ]
    },
    {
      "cell_type": "code",
      "execution_count": 50,
      "metadata": {
        "id": "4gunbKQjEjKk"
      },
      "outputs": [],
      "source": [
        "# to resolve an error \"Exception: input array type is not double\"\n",
        "# https://stackoverflow.com/questions/51712269/how-to-run-ta-lib-on-multiple-columns-of-a-pandas-dataframe\n",
        "for f in ['Open','High','Low','Close', 'Volume', 'Adj Close']:\n",
        "  currency_df.loc[:,f] = currency_df.loc[:,f].astype('float64')"
      ]
    },
    {
      "cell_type": "code",
      "execution_count": 51,
      "metadata": {
        "colab": {
          "base_uri": "https://localhost:8080/"
        },
        "id": "2pLwi9p-1a2d",
        "outputId": "e8ab2a2d-4dc5-4cd1-dd2f-30c61159617c"
      },
      "outputs": [
        {
          "output_type": "stream",
          "name": "stdout",
          "text": [
            "1/32 Current ticker is USDZAR=X\n",
            "2/32 Current ticker is EURZAR=X\n",
            "3/32 Current ticker is GBPZAR=X\n",
            "4/32 Current ticker is USDNGN=X\n",
            "5/32 Current ticker is USDKES=X\n",
            "6/32 Current ticker is USDGHS=X\n",
            "7/32 Current ticker is USDEGP=X\n",
            "8/32 Current ticker is EURUSD=X\n",
            "9/32 Current ticker is USDJPY=X\n",
            "10/32 Current ticker is GBPUSD=X\n",
            "11/32 Current ticker is USDCHF=X\n",
            "12/32 Current ticker is USDCAD=X\n",
            "13/32 Current ticker is AUDUSD=X\n",
            "14/32 Current ticker is USDCNY=X\n",
            "15/32 Current ticker is USDBRL=X\n",
            "16/32 Current ticker is USDARS=X\n",
            "17/32 Current ticker is USDCLP=X\n",
            "18/32 Current ticker is USDCOP=X\n",
            "19/32 Current ticker is USDPEN=X\n",
            "20/32 Current ticker is USDUYU=X\n",
            "21/32 Current ticker is EURGBP=X\n",
            "22/32 Current ticker is EURCHF=X\n",
            "23/32 Current ticker is EURJPY=X\n",
            "24/32 Current ticker is EURNOK=X\n",
            "25/32 Current ticker is EURSEK=X\n",
            "26/32 Current ticker is EURDKK=X\n",
            "27/32 Current ticker is GBPCHF=X\n",
            "28/32 Current ticker is USDINR=X\n",
            "29/32 Current ticker is USDKRW=X\n",
            "30/32 Current ticker is USDSGD=X\n",
            "31/32 Current ticker is USDHKD=X\n",
            "32/32 Current ticker is USDTHB=X\n"
          ]
        }
      ],
      "source": [
        "# supress warnings\n",
        "pd.options.mode.chained_assignment = None  # default='warn'\n",
        "\n",
        "# adding Momentum / Pattern/ Volume features to all tickers - one by one\n",
        "merged_df_with_tech_ind = pd.DataFrame({'A' : []})\n",
        "\n",
        "current_ticker_data = None\n",
        "i=0\n",
        "\n",
        "for ticker in ALL_TICKERS:\n",
        "  i+=1\n",
        "  print(f'{i}/{len(ALL_TICKERS)} Current ticker is {ticker}')\n",
        "  current_ticker_data = currency_df[currency_df.Ticker.isin([ticker])]\n",
        "  # need to have same 'utc' time on both sides\n",
        "  # https://stackoverflow.com/questions/73964894/you-are-trying-to-merge-on-datetime64ns-utc-and-datetime64ns-columns-if-yo\n",
        "  current_ticker_data['Date']= pd.to_datetime(current_ticker_data['Date'], utc=True)\n",
        "\n",
        "  # 3 calls to get additional features\n",
        "  df_current_ticker_momentum_indicators = talib_get_momentum_indicators_for_one_ticker(current_ticker_data)\n",
        "  df_current_ticker_momentum_indicators[\"Date\"]= pd.to_datetime(df_current_ticker_momentum_indicators['Date'], utc=True)\n",
        "  # df_current_ticker_momentum_indicators.loc[:,\"Date\"]= pd.to_datetime(df_current_ticker_momentum_indicators['Date'], utc=True)\n",
        "\n",
        "  df_current_ticker_volume_indicators = talib_get_volume_volatility_cycle_price_indicators(current_ticker_data)\n",
        "  df_current_ticker_volume_indicators[\"Date\"]= pd.to_datetime(df_current_ticker_volume_indicators['Date'], utc=True)\n",
        "  # df_current_ticker_volume_indicators.loc[:,\"Date\"]= pd.to_datetime(df_current_ticker_volume_indicators['Date'], utc=True)\n",
        "\n",
        "  df_current_ticker_pattern_indicators = talib_get_pattern_recognition_indicators(current_ticker_data)\n",
        "  df_current_ticker_pattern_indicators[\"Date\"]= pd.to_datetime(df_current_ticker_pattern_indicators['Date'], utc=True)\n",
        "  # df_current_ticker_pattern_indicators.loc[:,\"Date\"]= pd.to_datetime(df_current_ticker_pattern_indicators['Date'], utc=True)\n",
        "\n",
        "  # merge to one df\n",
        "  m1 = pd.merge(current_ticker_data, df_current_ticker_momentum_indicators.reset_index(), how = 'left', on = [\"Date\",\"Ticker\"], validate = \"one_to_one\")\n",
        "  m2 = pd.merge(m1, df_current_ticker_volume_indicators.reset_index(), how = 'left', on = [\"Date\",\"Ticker\"], validate = \"one_to_one\")\n",
        "  m3 = pd.merge(m2, df_current_ticker_pattern_indicators.reset_index(), how = 'left', on = [\"Date\",\"Ticker\"], validate = \"one_to_one\")\n",
        "\n",
        "  if merged_df_with_tech_ind.empty:\n",
        "    merged_df_with_tech_ind = m3\n",
        "  else:\n",
        "    merged_df_with_tech_ind = pd.concat([merged_df_with_tech_ind,m3], ignore_index = False)"
      ]
    },
    {
      "cell_type": "code",
      "execution_count": 52,
      "metadata": {
        "colab": {
          "base_uri": "https://localhost:8080/",
          "height": 273
        },
        "id": "ggFFzbRV1a1U",
        "outputId": "cef1c50c-bb09-489d-89c4-83ac77326208"
      },
      "outputs": [
        {
          "output_type": "execute_result",
          "data": {
            "text/plain": [
              "           Open       High        Low      Close  Adj Close  Volume    Ticker  \\\n",
              "5365  35.500000  35.590000  35.349998  35.500000  35.500000     0.0  USDTHB=X   \n",
              "5366  35.393002  35.709999  35.402000  35.393002  35.393002     0.0  USDTHB=X   \n",
              "5367  35.580002  35.592999  35.196999  35.580002  35.580002     0.0  USDTHB=X   \n",
              "5368  35.259998  35.299999  35.147999  35.259998  35.259998     0.0  USDTHB=X   \n",
              "5369  35.180000  35.271999  35.150002  35.220001  35.220001     0.0  USDTHB=X   \n",
              "\n",
              "      Year  Month  Weekday  ... cdlspinningtop  cdlstalledpattern  \\\n",
              "5365  2024      8        1  ...            100                  0   \n",
              "5366  2024      8        2  ...              0                  0   \n",
              "5367  2024      8        3  ...            100                  0   \n",
              "5368  2024      8        4  ...            100                  0   \n",
              "5369  2024      8        0  ...              0                  0   \n",
              "\n",
              "      cdlsticksandwich  cdltakuru  cdltasukigap  cdlthrusting  cdltristar  \\\n",
              "5365                 0          0             0             0           0   \n",
              "5366                 0          0             0             0           0   \n",
              "5367                 0        100             0             0         100   \n",
              "5368                 0          0             0             0        -100   \n",
              "5369                 0          0             0             0           0   \n",
              "\n",
              "      cdlunique3river  cdlupsidegap2crows  cdlxsidegap3methods  \n",
              "5365                0                   0                    0  \n",
              "5366                0                   0                    0  \n",
              "5367                0                   0                    0  \n",
              "5368                0                   0                    0  \n",
              "5369                0                   0                    0  \n",
              "\n",
              "[5 rows x 144 columns]"
            ],
            "text/html": [
              "\n",
              "  <div id=\"df-5c11927a-a98b-40cd-af59-c88a4e1d9eec\" class=\"colab-df-container\">\n",
              "    <div>\n",
              "<style scoped>\n",
              "    .dataframe tbody tr th:only-of-type {\n",
              "        vertical-align: middle;\n",
              "    }\n",
              "\n",
              "    .dataframe tbody tr th {\n",
              "        vertical-align: top;\n",
              "    }\n",
              "\n",
              "    .dataframe thead th {\n",
              "        text-align: right;\n",
              "    }\n",
              "</style>\n",
              "<table border=\"1\" class=\"dataframe\">\n",
              "  <thead>\n",
              "    <tr style=\"text-align: right;\">\n",
              "      <th></th>\n",
              "      <th>Open</th>\n",
              "      <th>High</th>\n",
              "      <th>Low</th>\n",
              "      <th>Close</th>\n",
              "      <th>Adj Close</th>\n",
              "      <th>Volume</th>\n",
              "      <th>Ticker</th>\n",
              "      <th>Year</th>\n",
              "      <th>Month</th>\n",
              "      <th>Weekday</th>\n",
              "      <th>...</th>\n",
              "      <th>cdlspinningtop</th>\n",
              "      <th>cdlstalledpattern</th>\n",
              "      <th>cdlsticksandwich</th>\n",
              "      <th>cdltakuru</th>\n",
              "      <th>cdltasukigap</th>\n",
              "      <th>cdlthrusting</th>\n",
              "      <th>cdltristar</th>\n",
              "      <th>cdlunique3river</th>\n",
              "      <th>cdlupsidegap2crows</th>\n",
              "      <th>cdlxsidegap3methods</th>\n",
              "    </tr>\n",
              "  </thead>\n",
              "  <tbody>\n",
              "    <tr>\n",
              "      <th>5365</th>\n",
              "      <td>35.500000</td>\n",
              "      <td>35.590000</td>\n",
              "      <td>35.349998</td>\n",
              "      <td>35.500000</td>\n",
              "      <td>35.500000</td>\n",
              "      <td>0.0</td>\n",
              "      <td>USDTHB=X</td>\n",
              "      <td>2024</td>\n",
              "      <td>8</td>\n",
              "      <td>1</td>\n",
              "      <td>...</td>\n",
              "      <td>100</td>\n",
              "      <td>0</td>\n",
              "      <td>0</td>\n",
              "      <td>0</td>\n",
              "      <td>0</td>\n",
              "      <td>0</td>\n",
              "      <td>0</td>\n",
              "      <td>0</td>\n",
              "      <td>0</td>\n",
              "      <td>0</td>\n",
              "    </tr>\n",
              "    <tr>\n",
              "      <th>5366</th>\n",
              "      <td>35.393002</td>\n",
              "      <td>35.709999</td>\n",
              "      <td>35.402000</td>\n",
              "      <td>35.393002</td>\n",
              "      <td>35.393002</td>\n",
              "      <td>0.0</td>\n",
              "      <td>USDTHB=X</td>\n",
              "      <td>2024</td>\n",
              "      <td>8</td>\n",
              "      <td>2</td>\n",
              "      <td>...</td>\n",
              "      <td>0</td>\n",
              "      <td>0</td>\n",
              "      <td>0</td>\n",
              "      <td>0</td>\n",
              "      <td>0</td>\n",
              "      <td>0</td>\n",
              "      <td>0</td>\n",
              "      <td>0</td>\n",
              "      <td>0</td>\n",
              "      <td>0</td>\n",
              "    </tr>\n",
              "    <tr>\n",
              "      <th>5367</th>\n",
              "      <td>35.580002</td>\n",
              "      <td>35.592999</td>\n",
              "      <td>35.196999</td>\n",
              "      <td>35.580002</td>\n",
              "      <td>35.580002</td>\n",
              "      <td>0.0</td>\n",
              "      <td>USDTHB=X</td>\n",
              "      <td>2024</td>\n",
              "      <td>8</td>\n",
              "      <td>3</td>\n",
              "      <td>...</td>\n",
              "      <td>100</td>\n",
              "      <td>0</td>\n",
              "      <td>0</td>\n",
              "      <td>100</td>\n",
              "      <td>0</td>\n",
              "      <td>0</td>\n",
              "      <td>100</td>\n",
              "      <td>0</td>\n",
              "      <td>0</td>\n",
              "      <td>0</td>\n",
              "    </tr>\n",
              "    <tr>\n",
              "      <th>5368</th>\n",
              "      <td>35.259998</td>\n",
              "      <td>35.299999</td>\n",
              "      <td>35.147999</td>\n",
              "      <td>35.259998</td>\n",
              "      <td>35.259998</td>\n",
              "      <td>0.0</td>\n",
              "      <td>USDTHB=X</td>\n",
              "      <td>2024</td>\n",
              "      <td>8</td>\n",
              "      <td>4</td>\n",
              "      <td>...</td>\n",
              "      <td>100</td>\n",
              "      <td>0</td>\n",
              "      <td>0</td>\n",
              "      <td>0</td>\n",
              "      <td>0</td>\n",
              "      <td>0</td>\n",
              "      <td>-100</td>\n",
              "      <td>0</td>\n",
              "      <td>0</td>\n",
              "      <td>0</td>\n",
              "    </tr>\n",
              "    <tr>\n",
              "      <th>5369</th>\n",
              "      <td>35.180000</td>\n",
              "      <td>35.271999</td>\n",
              "      <td>35.150002</td>\n",
              "      <td>35.220001</td>\n",
              "      <td>35.220001</td>\n",
              "      <td>0.0</td>\n",
              "      <td>USDTHB=X</td>\n",
              "      <td>2024</td>\n",
              "      <td>8</td>\n",
              "      <td>0</td>\n",
              "      <td>...</td>\n",
              "      <td>0</td>\n",
              "      <td>0</td>\n",
              "      <td>0</td>\n",
              "      <td>0</td>\n",
              "      <td>0</td>\n",
              "      <td>0</td>\n",
              "      <td>0</td>\n",
              "      <td>0</td>\n",
              "      <td>0</td>\n",
              "      <td>0</td>\n",
              "    </tr>\n",
              "  </tbody>\n",
              "</table>\n",
              "<p>5 rows × 144 columns</p>\n",
              "</div>\n",
              "    <div class=\"colab-df-buttons\">\n",
              "\n",
              "  <div class=\"colab-df-container\">\n",
              "    <button class=\"colab-df-convert\" onclick=\"convertToInteractive('df-5c11927a-a98b-40cd-af59-c88a4e1d9eec')\"\n",
              "            title=\"Convert this dataframe to an interactive table.\"\n",
              "            style=\"display:none;\">\n",
              "\n",
              "  <svg xmlns=\"http://www.w3.org/2000/svg\" height=\"24px\" viewBox=\"0 -960 960 960\">\n",
              "    <path d=\"M120-120v-720h720v720H120Zm60-500h600v-160H180v160Zm220 220h160v-160H400v160Zm0 220h160v-160H400v160ZM180-400h160v-160H180v160Zm440 0h160v-160H620v160ZM180-180h160v-160H180v160Zm440 0h160v-160H620v160Z\"/>\n",
              "  </svg>\n",
              "    </button>\n",
              "\n",
              "  <style>\n",
              "    .colab-df-container {\n",
              "      display:flex;\n",
              "      gap: 12px;\n",
              "    }\n",
              "\n",
              "    .colab-df-convert {\n",
              "      background-color: #E8F0FE;\n",
              "      border: none;\n",
              "      border-radius: 50%;\n",
              "      cursor: pointer;\n",
              "      display: none;\n",
              "      fill: #1967D2;\n",
              "      height: 32px;\n",
              "      padding: 0 0 0 0;\n",
              "      width: 32px;\n",
              "    }\n",
              "\n",
              "    .colab-df-convert:hover {\n",
              "      background-color: #E2EBFA;\n",
              "      box-shadow: 0px 1px 2px rgba(60, 64, 67, 0.3), 0px 1px 3px 1px rgba(60, 64, 67, 0.15);\n",
              "      fill: #174EA6;\n",
              "    }\n",
              "\n",
              "    .colab-df-buttons div {\n",
              "      margin-bottom: 4px;\n",
              "    }\n",
              "\n",
              "    [theme=dark] .colab-df-convert {\n",
              "      background-color: #3B4455;\n",
              "      fill: #D2E3FC;\n",
              "    }\n",
              "\n",
              "    [theme=dark] .colab-df-convert:hover {\n",
              "      background-color: #434B5C;\n",
              "      box-shadow: 0px 1px 3px 1px rgba(0, 0, 0, 0.15);\n",
              "      filter: drop-shadow(0px 1px 2px rgba(0, 0, 0, 0.3));\n",
              "      fill: #FFFFFF;\n",
              "    }\n",
              "  </style>\n",
              "\n",
              "    <script>\n",
              "      const buttonEl =\n",
              "        document.querySelector('#df-5c11927a-a98b-40cd-af59-c88a4e1d9eec button.colab-df-convert');\n",
              "      buttonEl.style.display =\n",
              "        google.colab.kernel.accessAllowed ? 'block' : 'none';\n",
              "\n",
              "      async function convertToInteractive(key) {\n",
              "        const element = document.querySelector('#df-5c11927a-a98b-40cd-af59-c88a4e1d9eec');\n",
              "        const dataTable =\n",
              "          await google.colab.kernel.invokeFunction('convertToInteractive',\n",
              "                                                    [key], {});\n",
              "        if (!dataTable) return;\n",
              "\n",
              "        const docLinkHtml = 'Like what you see? Visit the ' +\n",
              "          '<a target=\"_blank\" href=https://colab.research.google.com/notebooks/data_table.ipynb>data table notebook</a>'\n",
              "          + ' to learn more about interactive tables.';\n",
              "        element.innerHTML = '';\n",
              "        dataTable['output_type'] = 'display_data';\n",
              "        await google.colab.output.renderOutput(dataTable, element);\n",
              "        const docLink = document.createElement('div');\n",
              "        docLink.innerHTML = docLinkHtml;\n",
              "        element.appendChild(docLink);\n",
              "      }\n",
              "    </script>\n",
              "  </div>\n",
              "\n",
              "\n",
              "<div id=\"df-ff261cca-2478-4fa6-aeb4-14feca1e61c8\">\n",
              "  <button class=\"colab-df-quickchart\" onclick=\"quickchart('df-ff261cca-2478-4fa6-aeb4-14feca1e61c8')\"\n",
              "            title=\"Suggest charts\"\n",
              "            style=\"display:none;\">\n",
              "\n",
              "<svg xmlns=\"http://www.w3.org/2000/svg\" height=\"24px\"viewBox=\"0 0 24 24\"\n",
              "     width=\"24px\">\n",
              "    <g>\n",
              "        <path d=\"M19 3H5c-1.1 0-2 .9-2 2v14c0 1.1.9 2 2 2h14c1.1 0 2-.9 2-2V5c0-1.1-.9-2-2-2zM9 17H7v-7h2v7zm4 0h-2V7h2v10zm4 0h-2v-4h2v4z\"/>\n",
              "    </g>\n",
              "</svg>\n",
              "  </button>\n",
              "\n",
              "<style>\n",
              "  .colab-df-quickchart {\n",
              "      --bg-color: #E8F0FE;\n",
              "      --fill-color: #1967D2;\n",
              "      --hover-bg-color: #E2EBFA;\n",
              "      --hover-fill-color: #174EA6;\n",
              "      --disabled-fill-color: #AAA;\n",
              "      --disabled-bg-color: #DDD;\n",
              "  }\n",
              "\n",
              "  [theme=dark] .colab-df-quickchart {\n",
              "      --bg-color: #3B4455;\n",
              "      --fill-color: #D2E3FC;\n",
              "      --hover-bg-color: #434B5C;\n",
              "      --hover-fill-color: #FFFFFF;\n",
              "      --disabled-bg-color: #3B4455;\n",
              "      --disabled-fill-color: #666;\n",
              "  }\n",
              "\n",
              "  .colab-df-quickchart {\n",
              "    background-color: var(--bg-color);\n",
              "    border: none;\n",
              "    border-radius: 50%;\n",
              "    cursor: pointer;\n",
              "    display: none;\n",
              "    fill: var(--fill-color);\n",
              "    height: 32px;\n",
              "    padding: 0;\n",
              "    width: 32px;\n",
              "  }\n",
              "\n",
              "  .colab-df-quickchart:hover {\n",
              "    background-color: var(--hover-bg-color);\n",
              "    box-shadow: 0 1px 2px rgba(60, 64, 67, 0.3), 0 1px 3px 1px rgba(60, 64, 67, 0.15);\n",
              "    fill: var(--button-hover-fill-color);\n",
              "  }\n",
              "\n",
              "  .colab-df-quickchart-complete:disabled,\n",
              "  .colab-df-quickchart-complete:disabled:hover {\n",
              "    background-color: var(--disabled-bg-color);\n",
              "    fill: var(--disabled-fill-color);\n",
              "    box-shadow: none;\n",
              "  }\n",
              "\n",
              "  .colab-df-spinner {\n",
              "    border: 2px solid var(--fill-color);\n",
              "    border-color: transparent;\n",
              "    border-bottom-color: var(--fill-color);\n",
              "    animation:\n",
              "      spin 1s steps(1) infinite;\n",
              "  }\n",
              "\n",
              "  @keyframes spin {\n",
              "    0% {\n",
              "      border-color: transparent;\n",
              "      border-bottom-color: var(--fill-color);\n",
              "      border-left-color: var(--fill-color);\n",
              "    }\n",
              "    20% {\n",
              "      border-color: transparent;\n",
              "      border-left-color: var(--fill-color);\n",
              "      border-top-color: var(--fill-color);\n",
              "    }\n",
              "    30% {\n",
              "      border-color: transparent;\n",
              "      border-left-color: var(--fill-color);\n",
              "      border-top-color: var(--fill-color);\n",
              "      border-right-color: var(--fill-color);\n",
              "    }\n",
              "    40% {\n",
              "      border-color: transparent;\n",
              "      border-right-color: var(--fill-color);\n",
              "      border-top-color: var(--fill-color);\n",
              "    }\n",
              "    60% {\n",
              "      border-color: transparent;\n",
              "      border-right-color: var(--fill-color);\n",
              "    }\n",
              "    80% {\n",
              "      border-color: transparent;\n",
              "      border-right-color: var(--fill-color);\n",
              "      border-bottom-color: var(--fill-color);\n",
              "    }\n",
              "    90% {\n",
              "      border-color: transparent;\n",
              "      border-bottom-color: var(--fill-color);\n",
              "    }\n",
              "  }\n",
              "</style>\n",
              "\n",
              "  <script>\n",
              "    async function quickchart(key) {\n",
              "      const quickchartButtonEl =\n",
              "        document.querySelector('#' + key + ' button');\n",
              "      quickchartButtonEl.disabled = true;  // To prevent multiple clicks.\n",
              "      quickchartButtonEl.classList.add('colab-df-spinner');\n",
              "      try {\n",
              "        const charts = await google.colab.kernel.invokeFunction(\n",
              "            'suggestCharts', [key], {});\n",
              "      } catch (error) {\n",
              "        console.error('Error during call to suggestCharts:', error);\n",
              "      }\n",
              "      quickchartButtonEl.classList.remove('colab-df-spinner');\n",
              "      quickchartButtonEl.classList.add('colab-df-quickchart-complete');\n",
              "    }\n",
              "    (() => {\n",
              "      let quickchartButtonEl =\n",
              "        document.querySelector('#df-ff261cca-2478-4fa6-aeb4-14feca1e61c8 button');\n",
              "      quickchartButtonEl.style.display =\n",
              "        google.colab.kernel.accessAllowed ? 'block' : 'none';\n",
              "    })();\n",
              "  </script>\n",
              "</div>\n",
              "\n",
              "    </div>\n",
              "  </div>\n"
            ],
            "application/vnd.google.colaboratory.intrinsic+json": {
              "type": "dataframe"
            }
          },
          "metadata": {},
          "execution_count": 52
        }
      ],
      "source": [
        "merged_df_with_tech_ind['Date'] = pd.to_datetime(merged_df_with_tech_ind['Date']).dt.tz_localize(None)\n",
        "merged_df_with_tech_ind.tail()"
      ]
    },
    {
      "cell_type": "code",
      "execution_count": 52,
      "metadata": {
        "id": "W5VmNAUkcTc5"
      },
      "outputs": [],
      "source": []
    },
    {
      "cell_type": "markdown",
      "metadata": {
        "id": "f3eCmotilxLH"
      },
      "source": [
        "## 9.0. Merge"
      ]
    },
    {
      "cell_type": "code",
      "execution_count": 53,
      "metadata": {
        "id": "Zmq51B5Pvufe"
      },
      "outputs": [],
      "source": [
        "def ensure_datetime(df):\n",
        "    \"\"\"\n",
        "    Ensure the 'Date' column is in datetime format without timezone.\n",
        "\n",
        "    Parameters:\n",
        "    df (pd.DataFrame): DataFrame to process.\n",
        "\n",
        "    Returns:\n",
        "    pd.DataFrame: DataFrame with 'Date' column in datetime format.\n",
        "    \"\"\"\n",
        "    df['Date'] = pd.to_datetime(df['Date']).dt.tz_localize(None)\n",
        "    return df\n",
        "\n",
        "def remove_duplicate_columns(df):\n",
        "    \"\"\"\n",
        "    Remove duplicate columns resulting from merge operations.\n",
        "\n",
        "    Parameters:\n",
        "    df (pd.DataFrame): DataFrame to process.\n",
        "\n",
        "    Returns:\n",
        "    pd.DataFrame: DataFrame with duplicate columns removed.\n",
        "    \"\"\"\n",
        "    cols_to_drop = [col for col in df.columns if '_dup' in col]\n",
        "    df = df.drop(columns=cols_to_drop)\n",
        "    return df\n",
        "\n",
        "def final_merge_dataframes(dataframe_names, on='Date', how='left') -> pd.DataFrame:\n",
        "    \"\"\"\n",
        "    Merge multiple DataFrames on a specified column.\n",
        "\n",
        "    Parameters:\n",
        "    dataframe_names (list of str): List of DataFrame names to merge.\n",
        "    on (str): The column name to merge on.\n",
        "    how (str): The type of merge to be performed (default is 'left').\n",
        "\n",
        "    Returns:\n",
        "    pd.DataFrame: The merged DataFrame.\n",
        "    \"\"\"\n",
        "    if not dataframe_names:\n",
        "        raise ValueError(\"The list of DataFrame names is empty.\")\n",
        "\n",
        "    # Initialize with the first DataFrame\n",
        "    merged_df = ensure_datetime(globals()[dataframe_names[0]])\n",
        "\n",
        "    for name in dataframe_names[1:]:\n",
        "        df = ensure_datetime(globals()[name])\n",
        "        merged_df = pd.merge(merged_df, df, on=on, how=how, suffixes=('', '_dup'))\n",
        "        merged_df = remove_duplicate_columns(merged_df)\n",
        "\n",
        "    return merged_df\n"
      ]
    },
    {
      "cell_type": "code",
      "execution_count": 54,
      "metadata": {
        "id": "UoYxw6S7luRe"
      },
      "outputs": [],
      "source": [
        "\n",
        "batch_1 = [\n",
        "    'merged_df_with_tech_ind',\n",
        "    'indices_growth_data_toMerge',\n",
        "    'macro_growth_data_toMerge',\n",
        "    'crypto_growth_data_toMerge',\n",
        "    'etf_growth_data_toMerge',\n",
        "    'volatility_growth_data_toMerge',\n",
        "    'metal_growth_data_toMerge',\n",
        "    'energy_growth_data_toMerge',\n",
        "    # 'gdppot_to_merge',\n",
        "    # 'cpilfesl_to_merge',\n",
        "    # 'fedfunds',\n",
        "    # 'dgs1',\n",
        "    # 'dgs5',\n",
        "    # 'dgs10',\n",
        "]\n",
        "\n",
        "final_merged_df = final_merge_dataframes(batch_1)\n"
      ]
    },
    {
      "cell_type": "code",
      "execution_count": 55,
      "metadata": {
        "id": "gNLItBrj146d"
      },
      "outputs": [],
      "source": [
        "final_merged_df['Date'] = pd.to_datetime(final_merged_df['Date']).dt.tz_localize(None)\n"
      ]
    },
    {
      "cell_type": "code",
      "execution_count": 56,
      "metadata": {
        "id": "fG-gLBzzw7bg"
      },
      "outputs": [],
      "source": [
        "final_merged_df['Quarter'] = final_merged_df['Date'].dt.to_period('Q').dt.to_timestamp()\n",
        "\n",
        "\n",
        "final_merged_df_m6 = pd.merge(final_merged_df,\n",
        "        gdppot_to_merge,\n",
        "        how='left',\n",
        "        left_on='Quarter',\n",
        "        right_index=True,\n",
        "        validate = \"many_to_one\"\n",
        "          )"
      ]
    },
    {
      "cell_type": "code",
      "execution_count": 57,
      "metadata": {
        "id": "g8dBDw6Gw7aP"
      },
      "outputs": [],
      "source": [
        "final_merged_df_m6['Month'] = final_merged_df_m6['Date'].dt.to_period('M').dt.to_timestamp()\n",
        "final_merged_df_m7 = pd.merge(final_merged_df_m6,\n",
        "              cpilfesl_to_merge,\n",
        "              how='left',\n",
        "              left_on='Month',\n",
        "              right_index=True,\n",
        "              validate = \"many_to_one\"\n",
        "              )"
      ]
    },
    {
      "cell_type": "code",
      "execution_count": 58,
      "metadata": {
        "colab": {
          "base_uri": "https://localhost:8080/"
        },
        "id": "X_dmRQHJ5vuK",
        "outputId": "c234f321-607d-4e29-ffce-f11e4c4140f5"
      },
      "outputs": [
        {
          "output_type": "stream",
          "name": "stderr",
          "text": [
            "<ipython-input-58-012a844f0b78>:4: FutureWarning: Series.fillna with 'method' is deprecated and will raise in a future version. Use obj.ffill() or obj.bfill() instead.\n",
            "  final_merged_df_m7[field] = final_merged_df_m7[field].fillna(method='ffill')\n"
          ]
        }
      ],
      "source": [
        "\n",
        "fields_to_fill = ['cpi_core_yoy',\t'cpi_core_mom']\n",
        "# Fill missing values in selected fields with the last defined value\n",
        "for field in fields_to_fill:\n",
        "    final_merged_df_m7[field] = final_merged_df_m7[field].fillna(method='ffill')"
      ]
    },
    {
      "cell_type": "code",
      "execution_count": 59,
      "metadata": {
        "id": "Q_KNrQED5otr"
      },
      "outputs": [],
      "source": [
        "\n",
        "final_merged_df_m8 = pd.merge(\n",
        "    final_merged_df_m7,\n",
        "    fedfunds,\n",
        "    how='left',\n",
        "    left_on='Month',\n",
        "    right_index=True,\n",
        "    validate = \"many_to_one\"\n",
        "    )"
      ]
    },
    {
      "cell_type": "code",
      "execution_count": 60,
      "metadata": {
        "colab": {
          "base_uri": "https://localhost:8080/"
        },
        "id": "KFspqcjC5osO",
        "outputId": "011c049c-188f-41fd-a7e5-9670fa32a81e"
      },
      "outputs": [
        {
          "output_type": "stream",
          "name": "stderr",
          "text": [
            "<ipython-input-60-c9df2ee221f1>:4: FutureWarning: Series.fillna with 'method' is deprecated and will raise in a future version. Use obj.ffill() or obj.bfill() instead.\n",
            "  final_merged_df_m8[field] = final_merged_df_m8[field].fillna(method='ffill')\n"
          ]
        }
      ],
      "source": [
        "\n",
        "fields_to_fill = ['FEDFUNDS']\n",
        "# Fill missing values in selected fields with the last defined value\n",
        "for field in fields_to_fill:\n",
        "    final_merged_df_m8[field] = final_merged_df_m8[field].fillna(method='ffill')\n"
      ]
    },
    {
      "cell_type": "code",
      "execution_count": 61,
      "metadata": {
        "id": "UHmFK89l6U2D"
      },
      "outputs": [],
      "source": [
        "\n",
        "final_merged_df_m9 = pd.merge(\n",
        "    final_merged_df_m8,\n",
        "    dgs1,\n",
        "    how='left',\n",
        "    left_on='Date',\n",
        "    right_index=True,\n",
        "    validate = \"many_to_one\"\n",
        "    )\n",
        "\n",
        "\n",
        "final_merged_df_m10 = pd.merge(\n",
        "    final_merged_df_m9,\n",
        "    dgs5,\n",
        "    how='left',\n",
        "    left_on='Date',\n",
        "    right_index=True,\n",
        "    validate = \"many_to_one\"\n",
        "    )\n",
        "\n",
        "\n",
        "final_merged_df_m11 = pd.merge(\n",
        "    final_merged_df_m10,\n",
        "    dgs10,\n",
        "    how='left',\n",
        "    left_on='Date',\n",
        "    right_index=True,\n",
        "    validate = \"many_to_one\"\n",
        "    )"
      ]
    },
    {
      "cell_type": "code",
      "execution_count": 62,
      "metadata": {
        "colab": {
          "base_uri": "https://localhost:8080/",
          "height": 424
        },
        "id": "eYmJQuRQKTTx",
        "outputId": "ea0268de-4bdf-48b3-c1cc-cd26a2714e04"
      },
      "outputs": [
        {
          "output_type": "execute_result",
          "data": {
            "text/plain": [
              "                 179056     179057     179058     179059     179060\n",
              "Open               35.5  35.393002  35.580002  35.259998      35.18\n",
              "High              35.59  35.709999  35.592999  35.299999  35.271999\n",
              "Low           35.349998     35.402  35.196999  35.147999  35.150002\n",
              "Close              35.5  35.393002  35.580002  35.259998  35.220001\n",
              "Adj Close          35.5  35.393002  35.580002  35.259998  35.220001\n",
              "...                 ...        ...        ...        ...        ...\n",
              "cpi_core_mom   0.000648   0.000648   0.000648   0.000648   0.000648\n",
              "FEDFUNDS           5.33       5.33       5.33       5.33       5.33\n",
              "DGS1               4.46       4.45       4.48        NaN        NaN\n",
              "DGS5               3.73       3.79       3.83        NaN        NaN\n",
              "DGS10               3.9       3.96       3.99        NaN        NaN\n",
              "\n",
              "[363 rows x 5 columns]"
            ],
            "text/html": [
              "\n",
              "  <div id=\"df-634af081-256b-4b3b-a2e3-700751b3b94c\" class=\"colab-df-container\">\n",
              "    <div>\n",
              "<style scoped>\n",
              "    .dataframe tbody tr th:only-of-type {\n",
              "        vertical-align: middle;\n",
              "    }\n",
              "\n",
              "    .dataframe tbody tr th {\n",
              "        vertical-align: top;\n",
              "    }\n",
              "\n",
              "    .dataframe thead th {\n",
              "        text-align: right;\n",
              "    }\n",
              "</style>\n",
              "<table border=\"1\" class=\"dataframe\">\n",
              "  <thead>\n",
              "    <tr style=\"text-align: right;\">\n",
              "      <th></th>\n",
              "      <th>179056</th>\n",
              "      <th>179057</th>\n",
              "      <th>179058</th>\n",
              "      <th>179059</th>\n",
              "      <th>179060</th>\n",
              "    </tr>\n",
              "  </thead>\n",
              "  <tbody>\n",
              "    <tr>\n",
              "      <th>Open</th>\n",
              "      <td>35.5</td>\n",
              "      <td>35.393002</td>\n",
              "      <td>35.580002</td>\n",
              "      <td>35.259998</td>\n",
              "      <td>35.18</td>\n",
              "    </tr>\n",
              "    <tr>\n",
              "      <th>High</th>\n",
              "      <td>35.59</td>\n",
              "      <td>35.709999</td>\n",
              "      <td>35.592999</td>\n",
              "      <td>35.299999</td>\n",
              "      <td>35.271999</td>\n",
              "    </tr>\n",
              "    <tr>\n",
              "      <th>Low</th>\n",
              "      <td>35.349998</td>\n",
              "      <td>35.402</td>\n",
              "      <td>35.196999</td>\n",
              "      <td>35.147999</td>\n",
              "      <td>35.150002</td>\n",
              "    </tr>\n",
              "    <tr>\n",
              "      <th>Close</th>\n",
              "      <td>35.5</td>\n",
              "      <td>35.393002</td>\n",
              "      <td>35.580002</td>\n",
              "      <td>35.259998</td>\n",
              "      <td>35.220001</td>\n",
              "    </tr>\n",
              "    <tr>\n",
              "      <th>Adj Close</th>\n",
              "      <td>35.5</td>\n",
              "      <td>35.393002</td>\n",
              "      <td>35.580002</td>\n",
              "      <td>35.259998</td>\n",
              "      <td>35.220001</td>\n",
              "    </tr>\n",
              "    <tr>\n",
              "      <th>...</th>\n",
              "      <td>...</td>\n",
              "      <td>...</td>\n",
              "      <td>...</td>\n",
              "      <td>...</td>\n",
              "      <td>...</td>\n",
              "    </tr>\n",
              "    <tr>\n",
              "      <th>cpi_core_mom</th>\n",
              "      <td>0.000648</td>\n",
              "      <td>0.000648</td>\n",
              "      <td>0.000648</td>\n",
              "      <td>0.000648</td>\n",
              "      <td>0.000648</td>\n",
              "    </tr>\n",
              "    <tr>\n",
              "      <th>FEDFUNDS</th>\n",
              "      <td>5.33</td>\n",
              "      <td>5.33</td>\n",
              "      <td>5.33</td>\n",
              "      <td>5.33</td>\n",
              "      <td>5.33</td>\n",
              "    </tr>\n",
              "    <tr>\n",
              "      <th>DGS1</th>\n",
              "      <td>4.46</td>\n",
              "      <td>4.45</td>\n",
              "      <td>4.48</td>\n",
              "      <td>NaN</td>\n",
              "      <td>NaN</td>\n",
              "    </tr>\n",
              "    <tr>\n",
              "      <th>DGS5</th>\n",
              "      <td>3.73</td>\n",
              "      <td>3.79</td>\n",
              "      <td>3.83</td>\n",
              "      <td>NaN</td>\n",
              "      <td>NaN</td>\n",
              "    </tr>\n",
              "    <tr>\n",
              "      <th>DGS10</th>\n",
              "      <td>3.9</td>\n",
              "      <td>3.96</td>\n",
              "      <td>3.99</td>\n",
              "      <td>NaN</td>\n",
              "      <td>NaN</td>\n",
              "    </tr>\n",
              "  </tbody>\n",
              "</table>\n",
              "<p>363 rows × 5 columns</p>\n",
              "</div>\n",
              "    <div class=\"colab-df-buttons\">\n",
              "\n",
              "  <div class=\"colab-df-container\">\n",
              "    <button class=\"colab-df-convert\" onclick=\"convertToInteractive('df-634af081-256b-4b3b-a2e3-700751b3b94c')\"\n",
              "            title=\"Convert this dataframe to an interactive table.\"\n",
              "            style=\"display:none;\">\n",
              "\n",
              "  <svg xmlns=\"http://www.w3.org/2000/svg\" height=\"24px\" viewBox=\"0 -960 960 960\">\n",
              "    <path d=\"M120-120v-720h720v720H120Zm60-500h600v-160H180v160Zm220 220h160v-160H400v160Zm0 220h160v-160H400v160ZM180-400h160v-160H180v160Zm440 0h160v-160H620v160ZM180-180h160v-160H180v160Zm440 0h160v-160H620v160Z\"/>\n",
              "  </svg>\n",
              "    </button>\n",
              "\n",
              "  <style>\n",
              "    .colab-df-container {\n",
              "      display:flex;\n",
              "      gap: 12px;\n",
              "    }\n",
              "\n",
              "    .colab-df-convert {\n",
              "      background-color: #E8F0FE;\n",
              "      border: none;\n",
              "      border-radius: 50%;\n",
              "      cursor: pointer;\n",
              "      display: none;\n",
              "      fill: #1967D2;\n",
              "      height: 32px;\n",
              "      padding: 0 0 0 0;\n",
              "      width: 32px;\n",
              "    }\n",
              "\n",
              "    .colab-df-convert:hover {\n",
              "      background-color: #E2EBFA;\n",
              "      box-shadow: 0px 1px 2px rgba(60, 64, 67, 0.3), 0px 1px 3px 1px rgba(60, 64, 67, 0.15);\n",
              "      fill: #174EA6;\n",
              "    }\n",
              "\n",
              "    .colab-df-buttons div {\n",
              "      margin-bottom: 4px;\n",
              "    }\n",
              "\n",
              "    [theme=dark] .colab-df-convert {\n",
              "      background-color: #3B4455;\n",
              "      fill: #D2E3FC;\n",
              "    }\n",
              "\n",
              "    [theme=dark] .colab-df-convert:hover {\n",
              "      background-color: #434B5C;\n",
              "      box-shadow: 0px 1px 3px 1px rgba(0, 0, 0, 0.15);\n",
              "      filter: drop-shadow(0px 1px 2px rgba(0, 0, 0, 0.3));\n",
              "      fill: #FFFFFF;\n",
              "    }\n",
              "  </style>\n",
              "\n",
              "    <script>\n",
              "      const buttonEl =\n",
              "        document.querySelector('#df-634af081-256b-4b3b-a2e3-700751b3b94c button.colab-df-convert');\n",
              "      buttonEl.style.display =\n",
              "        google.colab.kernel.accessAllowed ? 'block' : 'none';\n",
              "\n",
              "      async function convertToInteractive(key) {\n",
              "        const element = document.querySelector('#df-634af081-256b-4b3b-a2e3-700751b3b94c');\n",
              "        const dataTable =\n",
              "          await google.colab.kernel.invokeFunction('convertToInteractive',\n",
              "                                                    [key], {});\n",
              "        if (!dataTable) return;\n",
              "\n",
              "        const docLinkHtml = 'Like what you see? Visit the ' +\n",
              "          '<a target=\"_blank\" href=https://colab.research.google.com/notebooks/data_table.ipynb>data table notebook</a>'\n",
              "          + ' to learn more about interactive tables.';\n",
              "        element.innerHTML = '';\n",
              "        dataTable['output_type'] = 'display_data';\n",
              "        await google.colab.output.renderOutput(dataTable, element);\n",
              "        const docLink = document.createElement('div');\n",
              "        docLink.innerHTML = docLinkHtml;\n",
              "        element.appendChild(docLink);\n",
              "      }\n",
              "    </script>\n",
              "  </div>\n",
              "\n",
              "\n",
              "<div id=\"df-7a6f4e66-1b2e-47cf-b0ce-76e2d5be4b0f\">\n",
              "  <button class=\"colab-df-quickchart\" onclick=\"quickchart('df-7a6f4e66-1b2e-47cf-b0ce-76e2d5be4b0f')\"\n",
              "            title=\"Suggest charts\"\n",
              "            style=\"display:none;\">\n",
              "\n",
              "<svg xmlns=\"http://www.w3.org/2000/svg\" height=\"24px\"viewBox=\"0 0 24 24\"\n",
              "     width=\"24px\">\n",
              "    <g>\n",
              "        <path d=\"M19 3H5c-1.1 0-2 .9-2 2v14c0 1.1.9 2 2 2h14c1.1 0 2-.9 2-2V5c0-1.1-.9-2-2-2zM9 17H7v-7h2v7zm4 0h-2V7h2v10zm4 0h-2v-4h2v4z\"/>\n",
              "    </g>\n",
              "</svg>\n",
              "  </button>\n",
              "\n",
              "<style>\n",
              "  .colab-df-quickchart {\n",
              "      --bg-color: #E8F0FE;\n",
              "      --fill-color: #1967D2;\n",
              "      --hover-bg-color: #E2EBFA;\n",
              "      --hover-fill-color: #174EA6;\n",
              "      --disabled-fill-color: #AAA;\n",
              "      --disabled-bg-color: #DDD;\n",
              "  }\n",
              "\n",
              "  [theme=dark] .colab-df-quickchart {\n",
              "      --bg-color: #3B4455;\n",
              "      --fill-color: #D2E3FC;\n",
              "      --hover-bg-color: #434B5C;\n",
              "      --hover-fill-color: #FFFFFF;\n",
              "      --disabled-bg-color: #3B4455;\n",
              "      --disabled-fill-color: #666;\n",
              "  }\n",
              "\n",
              "  .colab-df-quickchart {\n",
              "    background-color: var(--bg-color);\n",
              "    border: none;\n",
              "    border-radius: 50%;\n",
              "    cursor: pointer;\n",
              "    display: none;\n",
              "    fill: var(--fill-color);\n",
              "    height: 32px;\n",
              "    padding: 0;\n",
              "    width: 32px;\n",
              "  }\n",
              "\n",
              "  .colab-df-quickchart:hover {\n",
              "    background-color: var(--hover-bg-color);\n",
              "    box-shadow: 0 1px 2px rgba(60, 64, 67, 0.3), 0 1px 3px 1px rgba(60, 64, 67, 0.15);\n",
              "    fill: var(--button-hover-fill-color);\n",
              "  }\n",
              "\n",
              "  .colab-df-quickchart-complete:disabled,\n",
              "  .colab-df-quickchart-complete:disabled:hover {\n",
              "    background-color: var(--disabled-bg-color);\n",
              "    fill: var(--disabled-fill-color);\n",
              "    box-shadow: none;\n",
              "  }\n",
              "\n",
              "  .colab-df-spinner {\n",
              "    border: 2px solid var(--fill-color);\n",
              "    border-color: transparent;\n",
              "    border-bottom-color: var(--fill-color);\n",
              "    animation:\n",
              "      spin 1s steps(1) infinite;\n",
              "  }\n",
              "\n",
              "  @keyframes spin {\n",
              "    0% {\n",
              "      border-color: transparent;\n",
              "      border-bottom-color: var(--fill-color);\n",
              "      border-left-color: var(--fill-color);\n",
              "    }\n",
              "    20% {\n",
              "      border-color: transparent;\n",
              "      border-left-color: var(--fill-color);\n",
              "      border-top-color: var(--fill-color);\n",
              "    }\n",
              "    30% {\n",
              "      border-color: transparent;\n",
              "      border-left-color: var(--fill-color);\n",
              "      border-top-color: var(--fill-color);\n",
              "      border-right-color: var(--fill-color);\n",
              "    }\n",
              "    40% {\n",
              "      border-color: transparent;\n",
              "      border-right-color: var(--fill-color);\n",
              "      border-top-color: var(--fill-color);\n",
              "    }\n",
              "    60% {\n",
              "      border-color: transparent;\n",
              "      border-right-color: var(--fill-color);\n",
              "    }\n",
              "    80% {\n",
              "      border-color: transparent;\n",
              "      border-right-color: var(--fill-color);\n",
              "      border-bottom-color: var(--fill-color);\n",
              "    }\n",
              "    90% {\n",
              "      border-color: transparent;\n",
              "      border-bottom-color: var(--fill-color);\n",
              "    }\n",
              "  }\n",
              "</style>\n",
              "\n",
              "  <script>\n",
              "    async function quickchart(key) {\n",
              "      const quickchartButtonEl =\n",
              "        document.querySelector('#' + key + ' button');\n",
              "      quickchartButtonEl.disabled = true;  // To prevent multiple clicks.\n",
              "      quickchartButtonEl.classList.add('colab-df-spinner');\n",
              "      try {\n",
              "        const charts = await google.colab.kernel.invokeFunction(\n",
              "            'suggestCharts', [key], {});\n",
              "      } catch (error) {\n",
              "        console.error('Error during call to suggestCharts:', error);\n",
              "      }\n",
              "      quickchartButtonEl.classList.remove('colab-df-spinner');\n",
              "      quickchartButtonEl.classList.add('colab-df-quickchart-complete');\n",
              "    }\n",
              "    (() => {\n",
              "      let quickchartButtonEl =\n",
              "        document.querySelector('#df-7a6f4e66-1b2e-47cf-b0ce-76e2d5be4b0f button');\n",
              "      quickchartButtonEl.style.display =\n",
              "        google.colab.kernel.accessAllowed ? 'block' : 'none';\n",
              "    })();\n",
              "  </script>\n",
              "</div>\n",
              "\n",
              "    </div>\n",
              "  </div>\n"
            ],
            "application/vnd.google.colaboratory.intrinsic+json": {
              "type": "dataframe",
              "summary": "{\n  \"name\": \"final_merged_df_m11\",\n  \"rows\": 363,\n  \"fields\": [\n    {\n      \"column\": 179056,\n      \"properties\": {\n        \"dtype\": \"string\",\n        \"num_unique_values\": 286,\n        \"samples\": [\n          1.0062358624805914,\n          1.0019939922322612,\n          0.8268350013546687\n        ],\n        \"semantic_type\": \"\",\n        \"description\": \"\"\n      }\n    },\n    {\n      \"column\": 179057,\n      \"properties\": {\n        \"dtype\": \"string\",\n        \"num_unique_values\": 287,\n        \"samples\": [\n          0.9969859593351122,\n          1.0232590695313701,\n          0.7696223887342246\n        ],\n        \"semantic_type\": \"\",\n        \"description\": \"\"\n      }\n    },\n    {\n      \"column\": 179058,\n      \"properties\": {\n        \"dtype\": \"string\",\n        \"num_unique_values\": 286,\n        \"samples\": [\n          1.005283538169551,\n          1.000470444954576,\n          0.9221805083775189\n        ],\n        \"semantic_type\": \"\",\n        \"description\": \"\"\n      }\n    },\n    {\n      \"column\": 179059,\n      \"properties\": {\n        \"dtype\": \"string\",\n        \"num_unique_values\": 254,\n        \"samples\": [\n          1.2480849241112368,\n          \"2024-08-01 00:00:00\",\n          1.0290649580657236\n        ],\n        \"semantic_type\": \"\",\n        \"description\": \"\"\n      }\n    },\n    {\n      \"column\": 179060,\n      \"properties\": {\n        \"dtype\": \"category\",\n        \"num_unique_values\": 147,\n        \"samples\": [\n          1.011192241657628,\n          50.566749905654454,\n          0.9393301507562442\n        ],\n        \"semantic_type\": \"\",\n        \"description\": \"\"\n      }\n    }\n  ]\n}"
            }
          },
          "metadata": {},
          "execution_count": 62
        }
      ],
      "source": [
        "final_merged_df_m11.tail().T"
      ]
    },
    {
      "cell_type": "markdown",
      "source": [
        "# to Disk"
      ],
      "metadata": {
        "id": "cjgly4DpWV8m"
      }
    },
    {
      "cell_type": "code",
      "execution_count": 63,
      "metadata": {
        "id": "rgphVn0ZKXCF"
      },
      "outputs": [],
      "source": [
        "\n",
        "date = final_merged_df_m11.Date.max()\n",
        "date_str = date.strftime('%Y_%m_%d')\n",
        "\n",
        "final_merged_df_m11.to_parquet(f'forexdf_{date_str}.parquet.brotli',\n",
        "              compression='brotli')"
      ]
    },
    {
      "cell_type": "code",
      "source": [],
      "metadata": {
        "id": "2P9KTy5Ox8n2"
      },
      "execution_count": 63,
      "outputs": []
    }
  ],
  "metadata": {
    "accelerator": "GPU",
    "colab": {
      "gpuType": "T4",
      "machine_shape": "hm",
      "provenance": [],
      "authorship_tag": "ABX9TyOx4/h2WbRouNRXBmTGH7RE",
      "include_colab_link": true
    },
    "kernelspec": {
      "display_name": "Python 3",
      "name": "python3"
    },
    "language_info": {
      "name": "python"
    }
  },
  "nbformat": 4,
  "nbformat_minor": 0
}